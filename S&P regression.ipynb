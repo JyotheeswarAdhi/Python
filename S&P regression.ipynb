{
 "cells": [
  {
   "cell_type": "code",
   "execution_count": 370,
   "metadata": {},
   "outputs": [],
   "source": [
    "\n",
    "from warnings import filterwarnings\n",
    "filterwarnings('ignore')\n",
    "\n",
    "import os\n",
    "\n",
    "import pandas as pd \n",
    "\n",
    "import numpy as np\n",
    "\n",
    "import matplotlib.pyplot as plt\n",
    "%matplotlib inline\n",
    "\n",
    "import seaborn as sns\n",
    "\n",
    "from sklearn.model_selection import train_test_split\n",
    "from sklearn.metrics import mean_squared_error, mean_absolute_error, r2_score\n",
    "from sklearn.linear_model import LinearRegression\n",
    "from sklearn import metrics\n",
    "from sklearn import preprocessing\n",
    "\n",
    "import statsmodels\n",
    "import statsmodels.api as sm\n",
    "import statsmodels.stats.api as sms\n",
    "import statsmodels.formula.api as smf\n",
    "import statsmodels.tsa.api as smt\n",
    "from statsmodels.tools.eval_measures import rmse\n",
    "from statsmodels.compat import lzip\n",
    "from statsmodels.formula.api import ols\n",
    "\n",
    "from scipy.stats import f_oneway\n",
    "from scipy.stats import jarque_bera\n",
    "from scipy import stats\n"
   ]
  },
  {
   "cell_type": "markdown",
   "metadata": {},
   "source": [
    "### Read data "
   ]
  },
  {
   "cell_type": "code",
   "execution_count": 371,
   "metadata": {},
   "outputs": [
    {
     "data": {
      "text/html": [
       "<div>\n",
       "<style scoped>\n",
       "    .dataframe tbody tr th:only-of-type {\n",
       "        vertical-align: middle;\n",
       "    }\n",
       "\n",
       "    .dataframe tbody tr th {\n",
       "        vertical-align: top;\n",
       "    }\n",
       "\n",
       "    .dataframe thead th {\n",
       "        text-align: right;\n",
       "    }\n",
       "</style>\n",
       "<table border=\"1\" class=\"dataframe\">\n",
       "  <thead>\n",
       "    <tr style=\"text-align: right;\">\n",
       "      <th></th>\n",
       "      <th>Year</th>\n",
       "      <th>S&amp;P Composite</th>\n",
       "      <th>Dividend</th>\n",
       "      <th>Earnings</th>\n",
       "      <th>CPI</th>\n",
       "      <th>Long Interest Rate</th>\n",
       "      <th>Real Price</th>\n",
       "      <th>Real Dividend</th>\n",
       "      <th>Real Earnings</th>\n",
       "      <th>Cyclically Adjusted PE Ratio</th>\n",
       "    </tr>\n",
       "  </thead>\n",
       "  <tbody>\n",
       "    <tr>\n",
       "      <td>0</td>\n",
       "      <td>1871-01-31</td>\n",
       "      <td>4.44</td>\n",
       "      <td>0.26</td>\n",
       "      <td>0.4</td>\n",
       "      <td>12.464061</td>\n",
       "      <td>5.320000</td>\n",
       "      <td>91.599130</td>\n",
       "      <td>5.363913</td>\n",
       "      <td>8.252174</td>\n",
       "      <td>NaN</td>\n",
       "    </tr>\n",
       "    <tr>\n",
       "      <td>1</td>\n",
       "      <td>1871-02-28</td>\n",
       "      <td>4.50</td>\n",
       "      <td>0.26</td>\n",
       "      <td>0.4</td>\n",
       "      <td>12.844641</td>\n",
       "      <td>5.323333</td>\n",
       "      <td>90.086245</td>\n",
       "      <td>5.204983</td>\n",
       "      <td>8.007666</td>\n",
       "      <td>NaN</td>\n",
       "    </tr>\n",
       "    <tr>\n",
       "      <td>2</td>\n",
       "      <td>1871-03-31</td>\n",
       "      <td>4.61</td>\n",
       "      <td>0.26</td>\n",
       "      <td>0.4</td>\n",
       "      <td>13.034972</td>\n",
       "      <td>5.326667</td>\n",
       "      <td>90.940801</td>\n",
       "      <td>5.128982</td>\n",
       "      <td>7.890742</td>\n",
       "      <td>NaN</td>\n",
       "    </tr>\n",
       "    <tr>\n",
       "      <td>3</td>\n",
       "      <td>1871-04-30</td>\n",
       "      <td>4.74</td>\n",
       "      <td>0.26</td>\n",
       "      <td>0.4</td>\n",
       "      <td>12.559226</td>\n",
       "      <td>5.330000</td>\n",
       "      <td>97.047287</td>\n",
       "      <td>5.323269</td>\n",
       "      <td>8.189645</td>\n",
       "      <td>NaN</td>\n",
       "    </tr>\n",
       "    <tr>\n",
       "      <td>4</td>\n",
       "      <td>1871-05-31</td>\n",
       "      <td>4.86</td>\n",
       "      <td>0.26</td>\n",
       "      <td>0.4</td>\n",
       "      <td>12.273812</td>\n",
       "      <td>5.333333</td>\n",
       "      <td>101.818048</td>\n",
       "      <td>5.447056</td>\n",
       "      <td>8.380086</td>\n",
       "      <td>NaN</td>\n",
       "    </tr>\n",
       "  </tbody>\n",
       "</table>\n",
       "</div>"
      ],
      "text/plain": [
       "         Year  S&P Composite  Dividend  Earnings        CPI  \\\n",
       "0  1871-01-31           4.44      0.26       0.4  12.464061   \n",
       "1  1871-02-28           4.50      0.26       0.4  12.844641   \n",
       "2  1871-03-31           4.61      0.26       0.4  13.034972   \n",
       "3  1871-04-30           4.74      0.26       0.4  12.559226   \n",
       "4  1871-05-31           4.86      0.26       0.4  12.273812   \n",
       "\n",
       "   Long Interest Rate  Real Price  Real Dividend  Real Earnings  \\\n",
       "0            5.320000   91.599130       5.363913       8.252174   \n",
       "1            5.323333   90.086245       5.204983       8.007666   \n",
       "2            5.326667   90.940801       5.128982       7.890742   \n",
       "3            5.330000   97.047287       5.323269       8.189645   \n",
       "4            5.333333  101.818048       5.447056       8.380086   \n",
       "\n",
       "   Cyclically Adjusted PE Ratio  \n",
       "0                           NaN  \n",
       "1                           NaN  \n",
       "2                           NaN  \n",
       "3                           NaN  \n",
       "4                           NaN  "
      ]
     },
     "execution_count": 371,
     "metadata": {},
     "output_type": "execute_result"
    }
   ],
   "source": [
    "df = pd.read_csv('YALE-SPCOMP.csv')\n",
    "df.head()"
   ]
  },
  {
   "cell_type": "code",
   "execution_count": 372,
   "metadata": {},
   "outputs": [
    {
     "data": {
      "text/plain": [
       "(1788, 10)"
      ]
     },
     "execution_count": 372,
     "metadata": {},
     "output_type": "execute_result"
    }
   ],
   "source": [
    "df.shape"
   ]
  },
  {
   "cell_type": "markdown",
   "metadata": {},
   "source": [
    "### Dropping unwanted columns"
   ]
  },
  {
   "cell_type": "code",
   "execution_count": 373,
   "metadata": {},
   "outputs": [
    {
     "data": {
      "text/html": [
       "<div>\n",
       "<style scoped>\n",
       "    .dataframe tbody tr th:only-of-type {\n",
       "        vertical-align: middle;\n",
       "    }\n",
       "\n",
       "    .dataframe tbody tr th {\n",
       "        vertical-align: top;\n",
       "    }\n",
       "\n",
       "    .dataframe thead th {\n",
       "        text-align: right;\n",
       "    }\n",
       "</style>\n",
       "<table border=\"1\" class=\"dataframe\">\n",
       "  <thead>\n",
       "    <tr style=\"text-align: right;\">\n",
       "      <th></th>\n",
       "      <th>S&amp;P Composite</th>\n",
       "      <th>Dividend</th>\n",
       "      <th>Earnings</th>\n",
       "      <th>CPI</th>\n",
       "      <th>Long Interest Rate</th>\n",
       "      <th>Real Price</th>\n",
       "      <th>Real Dividend</th>\n",
       "      <th>Real Earnings</th>\n",
       "      <th>Cyclically Adjusted PE Ratio</th>\n",
       "    </tr>\n",
       "  </thead>\n",
       "  <tbody>\n",
       "    <tr>\n",
       "      <td>0</td>\n",
       "      <td>4.44</td>\n",
       "      <td>0.26</td>\n",
       "      <td>0.4</td>\n",
       "      <td>12.464061</td>\n",
       "      <td>5.320000</td>\n",
       "      <td>91.599130</td>\n",
       "      <td>5.363913</td>\n",
       "      <td>8.252174</td>\n",
       "      <td>NaN</td>\n",
       "    </tr>\n",
       "    <tr>\n",
       "      <td>1</td>\n",
       "      <td>4.50</td>\n",
       "      <td>0.26</td>\n",
       "      <td>0.4</td>\n",
       "      <td>12.844641</td>\n",
       "      <td>5.323333</td>\n",
       "      <td>90.086245</td>\n",
       "      <td>5.204983</td>\n",
       "      <td>8.007666</td>\n",
       "      <td>NaN</td>\n",
       "    </tr>\n",
       "    <tr>\n",
       "      <td>2</td>\n",
       "      <td>4.61</td>\n",
       "      <td>0.26</td>\n",
       "      <td>0.4</td>\n",
       "      <td>13.034972</td>\n",
       "      <td>5.326667</td>\n",
       "      <td>90.940801</td>\n",
       "      <td>5.128982</td>\n",
       "      <td>7.890742</td>\n",
       "      <td>NaN</td>\n",
       "    </tr>\n",
       "    <tr>\n",
       "      <td>3</td>\n",
       "      <td>4.74</td>\n",
       "      <td>0.26</td>\n",
       "      <td>0.4</td>\n",
       "      <td>12.559226</td>\n",
       "      <td>5.330000</td>\n",
       "      <td>97.047287</td>\n",
       "      <td>5.323269</td>\n",
       "      <td>8.189645</td>\n",
       "      <td>NaN</td>\n",
       "    </tr>\n",
       "    <tr>\n",
       "      <td>4</td>\n",
       "      <td>4.86</td>\n",
       "      <td>0.26</td>\n",
       "      <td>0.4</td>\n",
       "      <td>12.273812</td>\n",
       "      <td>5.333333</td>\n",
       "      <td>101.818048</td>\n",
       "      <td>5.447056</td>\n",
       "      <td>8.380086</td>\n",
       "      <td>NaN</td>\n",
       "    </tr>\n",
       "  </tbody>\n",
       "</table>\n",
       "</div>"
      ],
      "text/plain": [
       "   S&P Composite  Dividend  Earnings        CPI  Long Interest Rate  \\\n",
       "0           4.44      0.26       0.4  12.464061            5.320000   \n",
       "1           4.50      0.26       0.4  12.844641            5.323333   \n",
       "2           4.61      0.26       0.4  13.034972            5.326667   \n",
       "3           4.74      0.26       0.4  12.559226            5.330000   \n",
       "4           4.86      0.26       0.4  12.273812            5.333333   \n",
       "\n",
       "   Real Price  Real Dividend  Real Earnings  Cyclically Adjusted PE Ratio  \n",
       "0   91.599130       5.363913       8.252174                           NaN  \n",
       "1   90.086245       5.204983       8.007666                           NaN  \n",
       "2   90.940801       5.128982       7.890742                           NaN  \n",
       "3   97.047287       5.323269       8.189645                           NaN  \n",
       "4  101.818048       5.447056       8.380086                           NaN  "
      ]
     },
     "execution_count": 373,
     "metadata": {},
     "output_type": "execute_result"
    }
   ],
   "source": [
    "df=df.drop(columns='Year',axis=1)\n",
    "df.head()"
   ]
  },
  {
   "cell_type": "code",
   "execution_count": 374,
   "metadata": {},
   "outputs": [
    {
     "name": "stdout",
     "output_type": "stream",
     "text": [
      "<class 'pandas.core.frame.DataFrame'>\n",
      "RangeIndex: 1788 entries, 0 to 1787\n",
      "Data columns (total 9 columns):\n",
      "S&P Composite                   1788 non-null float64\n",
      "Dividend                        1785 non-null float64\n",
      "Earnings                        1785 non-null float64\n",
      "CPI                             1788 non-null float64\n",
      "Long Interest Rate              1788 non-null float64\n",
      "Real Price                      1788 non-null float64\n",
      "Real Dividend                   1785 non-null float64\n",
      "Real Earnings                   1785 non-null float64\n",
      "Cyclically Adjusted PE Ratio    1668 non-null float64\n",
      "dtypes: float64(9)\n",
      "memory usage: 125.8 KB\n"
     ]
    }
   ],
   "source": [
    "df.info()"
   ]
  },
  {
   "cell_type": "code",
   "execution_count": 375,
   "metadata": {},
   "outputs": [
    {
     "data": {
      "text/html": [
       "<div>\n",
       "<style scoped>\n",
       "    .dataframe tbody tr th:only-of-type {\n",
       "        vertical-align: middle;\n",
       "    }\n",
       "\n",
       "    .dataframe tbody tr th {\n",
       "        vertical-align: top;\n",
       "    }\n",
       "\n",
       "    .dataframe thead th {\n",
       "        text-align: right;\n",
       "    }\n",
       "</style>\n",
       "<table border=\"1\" class=\"dataframe\">\n",
       "  <thead>\n",
       "    <tr style=\"text-align: right;\">\n",
       "      <th></th>\n",
       "      <th>S&amp;P Composite</th>\n",
       "      <th>Dividend</th>\n",
       "      <th>Earnings</th>\n",
       "      <th>CPI</th>\n",
       "      <th>Long Interest Rate</th>\n",
       "      <th>Real Price</th>\n",
       "      <th>Real Dividend</th>\n",
       "      <th>Real Earnings</th>\n",
       "      <th>Cyclically Adjusted PE Ratio</th>\n",
       "    </tr>\n",
       "  </thead>\n",
       "  <tbody>\n",
       "    <tr>\n",
       "      <td>count</td>\n",
       "      <td>1788.000000</td>\n",
       "      <td>1785.000000</td>\n",
       "      <td>1785.000000</td>\n",
       "      <td>1788.000000</td>\n",
       "      <td>1788.000000</td>\n",
       "      <td>1788.000000</td>\n",
       "      <td>1785.000000</td>\n",
       "      <td>1785.000000</td>\n",
       "      <td>1668.000000</td>\n",
       "    </tr>\n",
       "    <tr>\n",
       "      <td>mean</td>\n",
       "      <td>287.415617</td>\n",
       "      <td>6.122340</td>\n",
       "      <td>14.164525</td>\n",
       "      <td>59.924884</td>\n",
       "      <td>4.545914</td>\n",
       "      <td>549.644435</td>\n",
       "      <td>15.995563</td>\n",
       "      <td>31.897773</td>\n",
       "      <td>17.010681</td>\n",
       "    </tr>\n",
       "    <tr>\n",
       "      <td>std</td>\n",
       "      <td>579.830261</td>\n",
       "      <td>10.741199</td>\n",
       "      <td>26.781028</td>\n",
       "      <td>73.387977</td>\n",
       "      <td>2.288319</td>\n",
       "      <td>610.184250</td>\n",
       "      <td>9.514509</td>\n",
       "      <td>26.696177</td>\n",
       "      <td>6.850493</td>\n",
       "    </tr>\n",
       "    <tr>\n",
       "      <td>min</td>\n",
       "      <td>2.730000</td>\n",
       "      <td>0.180000</td>\n",
       "      <td>0.160000</td>\n",
       "      <td>6.279613</td>\n",
       "      <td>1.500000</td>\n",
       "      <td>69.604422</td>\n",
       "      <td>5.128982</td>\n",
       "      <td>4.310423</td>\n",
       "      <td>4.784241</td>\n",
       "    </tr>\n",
       "    <tr>\n",
       "      <td>25%</td>\n",
       "      <td>7.847500</td>\n",
       "      <td>0.416700</td>\n",
       "      <td>0.550000</td>\n",
       "      <td>10.180580</td>\n",
       "      <td>3.228750</td>\n",
       "      <td>175.221455</td>\n",
       "      <td>8.831556</td>\n",
       "      <td>13.130502</td>\n",
       "      <td>11.845960</td>\n",
       "    </tr>\n",
       "    <tr>\n",
       "      <td>50%</td>\n",
       "      <td>16.915000</td>\n",
       "      <td>0.850000</td>\n",
       "      <td>1.397000</td>\n",
       "      <td>19.150000</td>\n",
       "      <td>3.838333</td>\n",
       "      <td>263.855931</td>\n",
       "      <td>13.265918</td>\n",
       "      <td>21.470555</td>\n",
       "      <td>16.271201</td>\n",
       "    </tr>\n",
       "    <tr>\n",
       "      <td>75%</td>\n",
       "      <td>134.725000</td>\n",
       "      <td>6.823330</td>\n",
       "      <td>14.580000</td>\n",
       "      <td>97.725000</td>\n",
       "      <td>5.172500</td>\n",
       "      <td>652.620646</td>\n",
       "      <td>20.304966</td>\n",
       "      <td>40.823415</td>\n",
       "      <td>20.593007</td>\n",
       "    </tr>\n",
       "    <tr>\n",
       "      <td>max</td>\n",
       "      <td>3223.380000</td>\n",
       "      <td>57.220000</td>\n",
       "      <td>135.270000</td>\n",
       "      <td>257.346000</td>\n",
       "      <td>15.320000</td>\n",
       "      <td>3223.380000</td>\n",
       "      <td>57.304685</td>\n",
       "      <td>136.031444</td>\n",
       "      <td>44.197940</td>\n",
       "    </tr>\n",
       "  </tbody>\n",
       "</table>\n",
       "</div>"
      ],
      "text/plain": [
       "       S&P Composite     Dividend     Earnings          CPI  \\\n",
       "count    1788.000000  1785.000000  1785.000000  1788.000000   \n",
       "mean      287.415617     6.122340    14.164525    59.924884   \n",
       "std       579.830261    10.741199    26.781028    73.387977   \n",
       "min         2.730000     0.180000     0.160000     6.279613   \n",
       "25%         7.847500     0.416700     0.550000    10.180580   \n",
       "50%        16.915000     0.850000     1.397000    19.150000   \n",
       "75%       134.725000     6.823330    14.580000    97.725000   \n",
       "max      3223.380000    57.220000   135.270000   257.346000   \n",
       "\n",
       "       Long Interest Rate   Real Price  Real Dividend  Real Earnings  \\\n",
       "count         1788.000000  1788.000000    1785.000000    1785.000000   \n",
       "mean             4.545914   549.644435      15.995563      31.897773   \n",
       "std              2.288319   610.184250       9.514509      26.696177   \n",
       "min              1.500000    69.604422       5.128982       4.310423   \n",
       "25%              3.228750   175.221455       8.831556      13.130502   \n",
       "50%              3.838333   263.855931      13.265918      21.470555   \n",
       "75%              5.172500   652.620646      20.304966      40.823415   \n",
       "max             15.320000  3223.380000      57.304685     136.031444   \n",
       "\n",
       "       Cyclically Adjusted PE Ratio  \n",
       "count                   1668.000000  \n",
       "mean                      17.010681  \n",
       "std                        6.850493  \n",
       "min                        4.784241  \n",
       "25%                       11.845960  \n",
       "50%                       16.271201  \n",
       "75%                       20.593007  \n",
       "max                       44.197940  "
      ]
     },
     "execution_count": 375,
     "metadata": {},
     "output_type": "execute_result"
    }
   ],
   "source": [
    "df.describe()"
   ]
  },
  {
   "cell_type": "markdown",
   "metadata": {},
   "source": [
    "### missing values"
   ]
  },
  {
   "cell_type": "code",
   "execution_count": 376,
   "metadata": {},
   "outputs": [
    {
     "data": {
      "text/plain": [
       "S&P Composite                     0\n",
       "Dividend                          3\n",
       "Earnings                          3\n",
       "CPI                               0\n",
       "Long Interest Rate                0\n",
       "Real Price                        0\n",
       "Real Dividend                     3\n",
       "Real Earnings                     3\n",
       "Cyclically Adjusted PE Ratio    120\n",
       "dtype: int64"
      ]
     },
     "execution_count": 376,
     "metadata": {},
     "output_type": "execute_result"
    }
   ],
   "source": [
    "df.isnull().sum()"
   ]
  },
  {
   "cell_type": "code",
   "execution_count": 377,
   "metadata": {},
   "outputs": [
    {
     "data": {
      "text/html": [
       "<div>\n",
       "<style scoped>\n",
       "    .dataframe tbody tr th:only-of-type {\n",
       "        vertical-align: middle;\n",
       "    }\n",
       "\n",
       "    .dataframe tbody tr th {\n",
       "        vertical-align: top;\n",
       "    }\n",
       "\n",
       "    .dataframe thead th {\n",
       "        text-align: right;\n",
       "    }\n",
       "</style>\n",
       "<table border=\"1\" class=\"dataframe\">\n",
       "  <thead>\n",
       "    <tr style=\"text-align: right;\">\n",
       "      <th></th>\n",
       "      <th>S&amp;P Composite</th>\n",
       "      <th>Dividend</th>\n",
       "      <th>Earnings</th>\n",
       "      <th>CPI</th>\n",
       "      <th>Long Interest Rate</th>\n",
       "      <th>Real Price</th>\n",
       "      <th>Real Dividend</th>\n",
       "      <th>Real Earnings</th>\n",
       "      <th>Cyclically Adjusted PE Ratio</th>\n",
       "    </tr>\n",
       "  </thead>\n",
       "  <tbody>\n",
       "    <tr>\n",
       "      <td>0</td>\n",
       "      <td>6.19</td>\n",
       "      <td>0.265</td>\n",
       "      <td>0.4858</td>\n",
       "      <td>9.419420</td>\n",
       "      <td>3.700000</td>\n",
       "      <td>168.979665</td>\n",
       "      <td>7.234186</td>\n",
       "      <td>13.261764</td>\n",
       "      <td>18.473952</td>\n",
       "    </tr>\n",
       "    <tr>\n",
       "      <td>1</td>\n",
       "      <td>6.17</td>\n",
       "      <td>0.270</td>\n",
       "      <td>0.4817</td>\n",
       "      <td>9.514585</td>\n",
       "      <td>3.693333</td>\n",
       "      <td>166.749008</td>\n",
       "      <td>7.296958</td>\n",
       "      <td>13.018314</td>\n",
       "      <td>18.147258</td>\n",
       "    </tr>\n",
       "    <tr>\n",
       "      <td>2</td>\n",
       "      <td>6.24</td>\n",
       "      <td>0.275</td>\n",
       "      <td>0.4775</td>\n",
       "      <td>9.514585</td>\n",
       "      <td>3.686667</td>\n",
       "      <td>168.640812</td>\n",
       "      <td>7.432087</td>\n",
       "      <td>12.904806</td>\n",
       "      <td>18.270119</td>\n",
       "    </tr>\n",
       "    <tr>\n",
       "      <td>3</td>\n",
       "      <td>6.22</td>\n",
       "      <td>0.280</td>\n",
       "      <td>0.4733</td>\n",
       "      <td>9.609669</td>\n",
       "      <td>3.680000</td>\n",
       "      <td>166.437003</td>\n",
       "      <td>7.492341</td>\n",
       "      <td>12.664732</td>\n",
       "      <td>17.950108</td>\n",
       "    </tr>\n",
       "    <tr>\n",
       "      <td>4</td>\n",
       "      <td>6.50</td>\n",
       "      <td>0.285</td>\n",
       "      <td>0.4692</td>\n",
       "      <td>9.514585</td>\n",
       "      <td>3.673333</td>\n",
       "      <td>175.667512</td>\n",
       "      <td>7.702345</td>\n",
       "      <td>12.680492</td>\n",
       "      <td>18.869719</td>\n",
       "    </tr>\n",
       "  </tbody>\n",
       "</table>\n",
       "</div>"
      ],
      "text/plain": [
       "   S&P Composite  Dividend  Earnings       CPI  Long Interest Rate  \\\n",
       "0           6.19     0.265    0.4858  9.419420            3.700000   \n",
       "1           6.17     0.270    0.4817  9.514585            3.693333   \n",
       "2           6.24     0.275    0.4775  9.514585            3.686667   \n",
       "3           6.22     0.280    0.4733  9.609669            3.680000   \n",
       "4           6.50     0.285    0.4692  9.514585            3.673333   \n",
       "\n",
       "   Real Price  Real Dividend  Real Earnings  Cyclically Adjusted PE Ratio  \n",
       "0  168.979665       7.234186      13.261764                     18.473952  \n",
       "1  166.749008       7.296958      13.018314                     18.147258  \n",
       "2  168.640812       7.432087      12.904806                     18.270119  \n",
       "3  166.437003       7.492341      12.664732                     17.950108  \n",
       "4  175.667512       7.702345      12.680492                     18.869719  "
      ]
     },
     "execution_count": 377,
     "metadata": {},
     "output_type": "execute_result"
    }
   ],
   "source": [
    "df=df.dropna(axis=0).reset_index(drop=True)\n",
    "df.head()"
   ]
  },
  {
   "cell_type": "code",
   "execution_count": 378,
   "metadata": {},
   "outputs": [
    {
     "data": {
      "text/plain": [
       "(1665, 9)"
      ]
     },
     "execution_count": 378,
     "metadata": {},
     "output_type": "execute_result"
    }
   ],
   "source": [
    "df.shape"
   ]
  },
  {
   "cell_type": "code",
   "execution_count": 379,
   "metadata": {},
   "outputs": [
    {
     "data": {
      "text/plain": [
       "S&P Composite                   0\n",
       "Dividend                        0\n",
       "Earnings                        0\n",
       "CPI                             0\n",
       "Long Interest Rate              0\n",
       "Real Price                      0\n",
       "Real Dividend                   0\n",
       "Real Earnings                   0\n",
       "Cyclically Adjusted PE Ratio    0\n",
       "dtype: int64"
      ]
     },
     "execution_count": 379,
     "metadata": {},
     "output_type": "execute_result"
    }
   ],
   "source": [
    "df.isnull().sum()"
   ]
  },
  {
   "cell_type": "markdown",
   "metadata": {},
   "source": [
    "### EDA"
   ]
  },
  {
   "cell_type": "code",
   "execution_count": 380,
   "metadata": {},
   "outputs": [
    {
     "data": {
      "text/plain": [
       "<matplotlib.axes._subplots.AxesSubplot at 0x1c3d010290>"
      ]
     },
     "execution_count": 380,
     "metadata": {},
     "output_type": "execute_result"
    },
    {
     "data": {
      "image/png": "[encoded data removed]",
      "text/plain": [
       "<Figure size 1440x360 with 2 Axes>"
      ]
     },
     "metadata": {
      "needs_background": "light"
     },
     "output_type": "display_data"
    }
   ],
   "source": [
    "plt.subplots(figsize=(20,5))\n",
    "cor= df.corr()\n",
    "sns.heatmap(cor,annot=True)"
   ]
  },
  {
   "cell_type": "code",
   "execution_count": 381,
   "metadata": {},
   "outputs": [
    {
     "data": {
      "image/png": "[encoded data removed]",
      "text/plain": [
       "<Figure size 432x288 with 9 Axes>"
      ]
     },
     "metadata": {
      "needs_background": "light"
     },
     "output_type": "display_data"
    }
   ],
   "source": [
    "df.hist()\n",
    "plt.show()"
   ]
  },
  {
   "cell_type": "code",
   "execution_count": 382,
   "metadata": {},
   "outputs": [
    {
     "data": {
      "text/plain": [
       "<matplotlib.axes._subplots.AxesSubplot at 0x1c578fc790>"
      ]
     },
     "execution_count": 382,
     "metadata": {},
     "output_type": "execute_result"
    },
    {
     "data": {
      "image/png": "[encoded data removed]",
      "text/plain": [
       "<Figure size 432x288 with 1 Axes>"
      ]
     },
     "metadata": {
      "needs_background": "light"
     },
     "output_type": "display_data"
    }
   ],
   "source": [
    "df.boxplot()"
   ]
  },
  {
   "cell_type": "markdown",
   "metadata": {},
   "source": [
    "### log "
   ]
  },
  {
   "cell_type": "code",
   "execution_count": 383,
   "metadata": {},
   "outputs": [
    {
     "data": {
      "text/html": [
       "<div>\n",
       "<style scoped>\n",
       "    .dataframe tbody tr th:only-of-type {\n",
       "        vertical-align: middle;\n",
       "    }\n",
       "\n",
       "    .dataframe tbody tr th {\n",
       "        vertical-align: top;\n",
       "    }\n",
       "\n",
       "    .dataframe thead th {\n",
       "        text-align: right;\n",
       "    }\n",
       "</style>\n",
       "<table border=\"1\" class=\"dataframe\">\n",
       "  <thead>\n",
       "    <tr style=\"text-align: right;\">\n",
       "      <th></th>\n",
       "      <th>S&amp;P Composite</th>\n",
       "      <th>Dividend</th>\n",
       "      <th>Earnings</th>\n",
       "      <th>CPI</th>\n",
       "      <th>Long Interest Rate</th>\n",
       "      <th>Real Price</th>\n",
       "      <th>Real Dividend</th>\n",
       "      <th>Real Earnings</th>\n",
       "      <th>Cyclically Adjusted PE Ratio</th>\n",
       "    </tr>\n",
       "  </thead>\n",
       "  <tbody>\n",
       "    <tr>\n",
       "      <td>0</td>\n",
       "      <td>1.822935</td>\n",
       "      <td>-1.328025</td>\n",
       "      <td>-0.721958</td>\n",
       "      <td>2.242773</td>\n",
       "      <td>1.308333</td>\n",
       "      <td>5.129778</td>\n",
       "      <td>1.978818</td>\n",
       "      <td>2.584885</td>\n",
       "      <td>2.916362</td>\n",
       "    </tr>\n",
       "    <tr>\n",
       "      <td>1</td>\n",
       "      <td>1.819699</td>\n",
       "      <td>-1.309333</td>\n",
       "      <td>-0.730434</td>\n",
       "      <td>2.252826</td>\n",
       "      <td>1.306529</td>\n",
       "      <td>5.116490</td>\n",
       "      <td>1.987458</td>\n",
       "      <td>2.566357</td>\n",
       "      <td>2.898519</td>\n",
       "    </tr>\n",
       "    <tr>\n",
       "      <td>2</td>\n",
       "      <td>1.830980</td>\n",
       "      <td>-1.290984</td>\n",
       "      <td>-0.739191</td>\n",
       "      <td>2.252826</td>\n",
       "      <td>1.304723</td>\n",
       "      <td>5.127771</td>\n",
       "      <td>2.005807</td>\n",
       "      <td>2.557600</td>\n",
       "      <td>2.905267</td>\n",
       "    </tr>\n",
       "    <tr>\n",
       "      <td>3</td>\n",
       "      <td>1.827770</td>\n",
       "      <td>-1.272966</td>\n",
       "      <td>-0.748026</td>\n",
       "      <td>2.262770</td>\n",
       "      <td>1.302913</td>\n",
       "      <td>5.114617</td>\n",
       "      <td>2.013881</td>\n",
       "      <td>2.538821</td>\n",
       "      <td>2.887596</td>\n",
       "    </tr>\n",
       "    <tr>\n",
       "      <td>4</td>\n",
       "      <td>1.871802</td>\n",
       "      <td>-1.255266</td>\n",
       "      <td>-0.756726</td>\n",
       "      <td>2.252826</td>\n",
       "      <td>1.301100</td>\n",
       "      <td>5.168593</td>\n",
       "      <td>2.041525</td>\n",
       "      <td>2.540065</td>\n",
       "      <td>2.937558</td>\n",
       "    </tr>\n",
       "  </tbody>\n",
       "</table>\n",
       "</div>"
      ],
      "text/plain": [
       "   S&P Composite  Dividend  Earnings       CPI  Long Interest Rate  \\\n",
       "0       1.822935 -1.328025 -0.721958  2.242773            1.308333   \n",
       "1       1.819699 -1.309333 -0.730434  2.252826            1.306529   \n",
       "2       1.830980 -1.290984 -0.739191  2.252826            1.304723   \n",
       "3       1.827770 -1.272966 -0.748026  2.262770            1.302913   \n",
       "4       1.871802 -1.255266 -0.756726  2.252826            1.301100   \n",
       "\n",
       "   Real Price  Real Dividend  Real Earnings  Cyclically Adjusted PE Ratio  \n",
       "0    5.129778       1.978818       2.584885                      2.916362  \n",
       "1    5.116490       1.987458       2.566357                      2.898519  \n",
       "2    5.127771       2.005807       2.557600                      2.905267  \n",
       "3    5.114617       2.013881       2.538821                      2.887596  \n",
       "4    5.168593       2.041525       2.540065                      2.937558  "
      ]
     },
     "execution_count": 383,
     "metadata": {},
     "output_type": "execute_result"
    }
   ],
   "source": [
    "df_transform=df.apply(lambda x : np.log(x))\n",
    "df_transform.head()"
   ]
  },
  {
   "cell_type": "code",
   "execution_count": 384,
   "metadata": {},
   "outputs": [
    {
     "data": {
      "text/plain": [
       "<matplotlib.axes._subplots.AxesSubplot at 0x1c57930a10>"
      ]
     },
     "execution_count": 384,
     "metadata": {},
     "output_type": "execute_result"
    },
    {
     "data": {
      "image/png": "[encoded data removed]",
      "text/plain": [
       "<Figure size 432x288 with 1 Axes>"
      ]
     },
     "metadata": {
      "needs_background": "light"
     },
     "output_type": "display_data"
    }
   ],
   "source": [
    "df_transform.boxplot()"
   ]
  },
  {
   "cell_type": "code",
   "execution_count": 385,
   "metadata": {},
   "outputs": [
    {
     "data": {
      "image/png": "[encoded data removed]",
      "text/plain": [
       "<Figure size 432x288 with 9 Axes>"
      ]
     },
     "metadata": {
      "needs_background": "light"
     },
     "output_type": "display_data"
    }
   ],
   "source": [
    "df_transform.hist()\n",
    "plt.show()"
   ]
  },
  {
   "cell_type": "markdown",
   "metadata": {},
   "source": [
    "### splitting data "
   ]
  },
  {
   "cell_type": "code",
   "execution_count": 386,
   "metadata": {},
   "outputs": [
    {
     "name": "stdout",
     "output_type": "stream",
     "text": [
      "(1165, 8)\n",
      "(500, 8)\n",
      "(500,)\n"
     ]
    }
   ],
   "source": [
    "x=df.drop(columns='S&P Composite',axis=1)\n",
    "y=df['S&P Composite']\n",
    "x_train,x_test,y_train,y_test=train_test_split(x,y,test_size=0.30,random_state=2)\n",
    "print(x_train.shape)\n",
    "print(x_test.shape)\n",
    "print(y_test.shape)"
   ]
  },
  {
   "cell_type": "code",
   "execution_count": 387,
   "metadata": {},
   "outputs": [],
   "source": [
    "from sklearn.preprocessing import StandardScaler\n",
    "sc = preprocessing.StandardScaler()\n",
    "x_train_scaled = sc.fit_transform(x_train)\n",
    "x_test_scaled = sc.transform(x_test)"
   ]
  },
  {
   "cell_type": "markdown",
   "metadata": {},
   "source": [
    "### BASE Model"
   ]
  },
  {
   "cell_type": "code",
   "execution_count": 388,
   "metadata": {},
   "outputs": [
    {
     "data": {
      "text/html": [
       "<table class=\"simpletable\">\n",
       "<caption>OLS Regression Results</caption>\n",
       "<tr>\n",
       "  <th>Dep. Variable:</th>      <td>S&P Composite</td>  <th>  R-squared:         </th> <td>   0.997</td> \n",
       "</tr>\n",
       "<tr>\n",
       "  <th>Model:</th>                   <td>OLS</td>       <th>  Adj. R-squared:    </th> <td>   0.997</td> \n",
       "</tr>\n",
       "<tr>\n",
       "  <th>Method:</th>             <td>Least Squares</td>  <th>  F-statistic:       </th> <td>5.161e+04</td>\n",
       "</tr>\n",
       "<tr>\n",
       "  <th>Date:</th>             <td>Thu, 23 Jan 2020</td> <th>  Prob (F-statistic):</th>  <td>  0.00</td>  \n",
       "</tr>\n",
       "<tr>\n",
       "  <th>Time:</th>                 <td>15:42:39</td>     <th>  Log-Likelihood:    </th> <td> -5626.8</td> \n",
       "</tr>\n",
       "<tr>\n",
       "  <th>No. Observations:</th>      <td>  1165</td>      <th>  AIC:               </th> <td>1.127e+04</td>\n",
       "</tr>\n",
       "<tr>\n",
       "  <th>Df Residuals:</th>          <td>  1156</td>      <th>  BIC:               </th> <td>1.132e+04</td>\n",
       "</tr>\n",
       "<tr>\n",
       "  <th>Df Model:</th>              <td>     8</td>      <th>                     </th>     <td> </td>    \n",
       "</tr>\n",
       "<tr>\n",
       "  <th>Covariance Type:</th>      <td>nonrobust</td>    <th>                     </th>     <td> </td>    \n",
       "</tr>\n",
       "</table>\n",
       "<table class=\"simpletable\">\n",
       "<tr>\n",
       "                <td></td>                  <th>coef</th>     <th>std err</th>      <th>t</th>      <th>P>|t|</th>  <th>[0.025</th>    <th>0.975]</th>  \n",
       "</tr>\n",
       "<tr>\n",
       "  <th>const</th>                        <td>  162.3143</td> <td>    5.526</td> <td>   29.370</td> <td> 0.000</td> <td>  151.471</td> <td>  173.157</td>\n",
       "</tr>\n",
       "<tr>\n",
       "  <th>Dividend</th>                     <td>   33.2003</td> <td>    0.899</td> <td>   36.932</td> <td> 0.000</td> <td>   31.436</td> <td>   34.964</td>\n",
       "</tr>\n",
       "<tr>\n",
       "  <th>Earnings</th>                     <td>    4.0239</td> <td>    0.361</td> <td>   11.153</td> <td> 0.000</td> <td>    3.316</td> <td>    4.732</td>\n",
       "</tr>\n",
       "<tr>\n",
       "  <th>CPI</th>                          <td>   -1.0352</td> <td>    0.046</td> <td>  -22.696</td> <td> 0.000</td> <td>   -1.125</td> <td>   -0.946</td>\n",
       "</tr>\n",
       "<tr>\n",
       "  <th>Long Interest Rate</th>           <td>   -3.6836</td> <td>    0.566</td> <td>   -6.513</td> <td> 0.000</td> <td>   -4.793</td> <td>   -2.574</td>\n",
       "</tr>\n",
       "<tr>\n",
       "  <th>Real Price</th>                   <td>    0.6817</td> <td>    0.009</td> <td>   72.273</td> <td> 0.000</td> <td>    0.663</td> <td>    0.700</td>\n",
       "</tr>\n",
       "<tr>\n",
       "  <th>Real Dividend</th>                <td>  -17.5984</td> <td>    0.637</td> <td>  -27.610</td> <td> 0.000</td> <td>  -18.849</td> <td>  -16.348</td>\n",
       "</tr>\n",
       "<tr>\n",
       "  <th>Real Earnings</th>                <td>   -1.6095</td> <td>    0.275</td> <td>   -5.850</td> <td> 0.000</td> <td>   -2.149</td> <td>   -1.070</td>\n",
       "</tr>\n",
       "<tr>\n",
       "  <th>Cyclically Adjusted PE Ratio</th> <td>   -6.0123</td> <td>    0.306</td> <td>  -19.655</td> <td> 0.000</td> <td>   -6.612</td> <td>   -5.412</td>\n",
       "</tr>\n",
       "</table>\n",
       "<table class=\"simpletable\">\n",
       "<tr>\n",
       "  <th>Omnibus:</th>       <td>14.781</td> <th>  Durbin-Watson:     </th> <td>   1.957</td>\n",
       "</tr>\n",
       "<tr>\n",
       "  <th>Prob(Omnibus):</th> <td> 0.001</td> <th>  Jarque-Bera (JB):  </th> <td>  15.162</td>\n",
       "</tr>\n",
       "<tr>\n",
       "  <th>Skew:</th>          <td> 0.279</td> <th>  Prob(JB):          </th> <td>0.000510</td>\n",
       "</tr>\n",
       "<tr>\n",
       "  <th>Kurtosis:</th>      <td> 2.978</td> <th>  Cond. No.          </th> <td>5.17e+03</td>\n",
       "</tr>\n",
       "</table><br/><br/>Warnings:<br/>[1] Standard Errors assume that the covariance matrix of the errors is correctly specified.<br/>[2] The condition number is large, 5.17e+03. This might indicate that there are<br/>strong multicollinearity or other numerical problems."
      ],
      "text/plain": [
       "<class 'statsmodels.iolib.summary.Summary'>\n",
       "\"\"\"\n",
       "                            OLS Regression Results                            \n",
       "==============================================================================\n",
       "Dep. Variable:          S&P Composite   R-squared:                       0.997\n",
       "Model:                            OLS   Adj. R-squared:                  0.997\n",
       "Method:                 Least Squares   F-statistic:                 5.161e+04\n",
       "Date:                Thu, 23 Jan 2020   Prob (F-statistic):               0.00\n",
       "Time:                        15:42:39   Log-Likelihood:                -5626.8\n",
       "No. Observations:                1165   AIC:                         1.127e+04\n",
       "Df Residuals:                    1156   BIC:                         1.132e+04\n",
       "Df Model:                           8                                         \n",
       "Covariance Type:            nonrobust                                         \n",
       "================================================================================================\n",
       "                                   coef    std err          t      P>|t|      [0.025      0.975]\n",
       "------------------------------------------------------------------------------------------------\n",
       "const                          162.3143      5.526     29.370      0.000     151.471     173.157\n",
       "Dividend                        33.2003      0.899     36.932      0.000      31.436      34.964\n",
       "Earnings                         4.0239      0.361     11.153      0.000       3.316       4.732\n",
       "CPI                             -1.0352      0.046    -22.696      0.000      -1.125      -0.946\n",
       "Long Interest Rate              -3.6836      0.566     -6.513      0.000      -4.793      -2.574\n",
       "Real Price                       0.6817      0.009     72.273      0.000       0.663       0.700\n",
       "Real Dividend                  -17.5984      0.637    -27.610      0.000     -18.849     -16.348\n",
       "Real Earnings                   -1.6095      0.275     -5.850      0.000      -2.149      -1.070\n",
       "Cyclically Adjusted PE Ratio    -6.0123      0.306    -19.655      0.000      -6.612      -5.412\n",
       "==============================================================================\n",
       "Omnibus:                       14.781   Durbin-Watson:                   1.957\n",
       "Prob(Omnibus):                  0.001   Jarque-Bera (JB):               15.162\n",
       "Skew:                           0.279   Prob(JB):                     0.000510\n",
       "Kurtosis:                       2.978   Cond. No.                     5.17e+03\n",
       "==============================================================================\n",
       "\n",
       "Warnings:\n",
       "[1] Standard Errors assume that the covariance matrix of the errors is correctly specified.\n",
       "[2] The condition number is large, 5.17e+03. This might indicate that there are\n",
       "strong multicollinearity or other numerical problems.\n",
       "\"\"\""
      ]
     },
     "execution_count": 388,
     "metadata": {},
     "output_type": "execute_result"
    }
   ],
   "source": [
    "bm= sm.OLS(y_train, sm.add_constant(x_train)).fit()\n",
    "bm.summary()"
   ]
  },
  {
   "cell_type": "code",
   "execution_count": 389,
   "metadata": {},
   "outputs": [
    {
     "name": "stdout",
     "output_type": "stream",
     "text": [
      "R^2 score for train: 0.9972081027240788\n",
      "R^2 score for test: 0.9974971476435958\n"
     ]
    }
   ],
   "source": [
    "lr = LinearRegression()\n",
    "lr = lr.fit(x_train,y_train)\n",
    "print(f'R^2 score for train: {lr.score(x_train, y_train)}')\n",
    "print(f'R^2 score for test: {lr.score(x_test, y_test)}')"
   ]
  },
  {
   "cell_type": "markdown",
   "metadata": {},
   "source": [
    "### Assumptions "
   ]
  },
  {
   "cell_type": "markdown",
   "metadata": {},
   "source": [
    "#### normality of residuals "
   ]
  },
  {
   "cell_type": "code",
   "execution_count": 390,
   "metadata": {},
   "outputs": [
    {
     "name": "stdout",
     "output_type": "stream",
     "text": [
      "Statistics=15.162, p-value=0.001\n"
     ]
    }
   ],
   "source": [
    "stat, p = jarque_bera(bm.resid)\n",
    "print('Statistics=%.3f, p-value=%.3f' % (stat, p))"
   ]
  },
  {
   "cell_type": "markdown",
   "metadata": {},
   "source": [
    "the rsiduals are not normally distributed "
   ]
  },
  {
   "cell_type": "markdown",
   "metadata": {},
   "source": [
    "#### multicollinearity"
   ]
  },
  {
   "cell_type": "code",
   "execution_count": 391,
   "metadata": {},
   "outputs": [
    {
     "data": {
      "text/html": [
       "<div>\n",
       "<style scoped>\n",
       "    .dataframe tbody tr th:only-of-type {\n",
       "        vertical-align: middle;\n",
       "    }\n",
       "\n",
       "    .dataframe tbody tr th {\n",
       "        vertical-align: top;\n",
       "    }\n",
       "\n",
       "    .dataframe thead th {\n",
       "        text-align: right;\n",
       "    }\n",
       "</style>\n",
       "<table border=\"1\" class=\"dataframe\">\n",
       "  <thead>\n",
       "    <tr style=\"text-align: right;\">\n",
       "      <th></th>\n",
       "      <th>Dividend</th>\n",
       "      <th>Earnings</th>\n",
       "      <th>CPI</th>\n",
       "      <th>Long Interest Rate</th>\n",
       "      <th>Real Price</th>\n",
       "      <th>Real Dividend</th>\n",
       "      <th>Real Earnings</th>\n",
       "      <th>Cyclically Adjusted PE Ratio</th>\n",
       "    </tr>\n",
       "  </thead>\n",
       "  <tbody>\n",
       "    <tr>\n",
       "      <td>vif</td>\n",
       "      <td>158.235164</td>\n",
       "      <td>148.364842</td>\n",
       "      <td>23.711969</td>\n",
       "      <td>9.274308</td>\n",
       "      <td>49.294018</td>\n",
       "      <td>136.093204</td>\n",
       "      <td>168.109358</td>\n",
       "      <td>19.687341</td>\n",
       "    </tr>\n",
       "  </tbody>\n",
       "</table>\n",
       "</div>"
      ],
      "text/plain": [
       "       Dividend    Earnings        CPI  Long Interest Rate  Real Price  \\\n",
       "vif  158.235164  148.364842  23.711969            9.274308   49.294018   \n",
       "\n",
       "     Real Dividend  Real Earnings  Cyclically Adjusted PE Ratio  \n",
       "vif     136.093204     168.109358                     19.687341  "
      ]
     },
     "execution_count": 391,
     "metadata": {},
     "output_type": "execute_result"
    }
   ],
   "source": [
    "from statsmodels.stats.outliers_influence import variance_inflation_factor\n",
    "\n",
    "vif = [variance_inflation_factor(x.values, i) for i in range(x.shape[1])]\n",
    "pd.DataFrame({'vif': vif[0:]}, index=x.columns).T"
   ]
  },
  {
   "cell_type": "markdown",
   "metadata": {},
   "source": [
    "#### linearity of residuals"
   ]
  },
  {
   "cell_type": "code",
   "execution_count": 392,
   "metadata": {},
   "outputs": [
    {
     "data": {
      "text/plain": [
       "(1.0222628090293384, 0.39577196295156886)"
      ]
     },
     "execution_count": 392,
     "metadata": {},
     "output_type": "execute_result"
    }
   ],
   "source": [
    "import statsmodels.api as sm\n",
    "sm.stats.diagnostic.linear_rainbow(res=bm, frac=0.5)"
   ]
  },
  {
   "cell_type": "markdown",
   "metadata": {},
   "source": [
    "The residuals are linear "
   ]
  },
  {
   "cell_type": "markdown",
   "metadata": {},
   "source": [
    "#### homoscedaticity "
   ]
  },
  {
   "cell_type": "code",
   "execution_count": 393,
   "metadata": {},
   "outputs": [
    {
     "data": {
      "text/plain": [
       "[('F statistic', 0.9972467207881807), ('p-value', 0.5131524768089797)]"
      ]
     },
     "execution_count": 393,
     "metadata": {},
     "output_type": "execute_result"
    }
   ],
   "source": [
    "name = ['F statistic', 'p-value']\n",
    "test = sms.het_goldfeldquandt(bm.resid, bm.model.exog)\n",
    "lzip(name, test)"
   ]
  },
  {
   "cell_type": "markdown",
   "metadata": {},
   "source": [
    "the residuals are homoscedastic "
   ]
  },
  {
   "cell_type": "markdown",
   "metadata": {},
   "source": [
    "### Reducing multicollinearity "
   ]
  },
  {
   "cell_type": "code",
   "execution_count": 394,
   "metadata": {},
   "outputs": [
    {
     "data": {
      "text/html": [
       "<div>\n",
       "<style scoped>\n",
       "    .dataframe tbody tr th:only-of-type {\n",
       "        vertical-align: middle;\n",
       "    }\n",
       "\n",
       "    .dataframe tbody tr th {\n",
       "        vertical-align: top;\n",
       "    }\n",
       "\n",
       "    .dataframe thead th {\n",
       "        text-align: right;\n",
       "    }\n",
       "</style>\n",
       "<table border=\"1\" class=\"dataframe\">\n",
       "  <thead>\n",
       "    <tr style=\"text-align: right;\">\n",
       "      <th></th>\n",
       "      <th>S&amp;P Composite</th>\n",
       "      <th>Dividend</th>\n",
       "      <th>Earnings</th>\n",
       "      <th>CPI</th>\n",
       "      <th>Long Interest Rate</th>\n",
       "      <th>Real Price</th>\n",
       "      <th>Real Dividend</th>\n",
       "      <th>Real Earnings</th>\n",
       "      <th>Cyclically Adjusted PE Ratio</th>\n",
       "    </tr>\n",
       "  </thead>\n",
       "  <tbody>\n",
       "    <tr>\n",
       "      <td>0</td>\n",
       "      <td>6.19</td>\n",
       "      <td>0.265</td>\n",
       "      <td>0.4858</td>\n",
       "      <td>9.419420</td>\n",
       "      <td>3.700000</td>\n",
       "      <td>168.979665</td>\n",
       "      <td>7.234186</td>\n",
       "      <td>13.261764</td>\n",
       "      <td>18.473952</td>\n",
       "    </tr>\n",
       "    <tr>\n",
       "      <td>1</td>\n",
       "      <td>6.17</td>\n",
       "      <td>0.270</td>\n",
       "      <td>0.4817</td>\n",
       "      <td>9.514585</td>\n",
       "      <td>3.693333</td>\n",
       "      <td>166.749008</td>\n",
       "      <td>7.296958</td>\n",
       "      <td>13.018314</td>\n",
       "      <td>18.147258</td>\n",
       "    </tr>\n",
       "    <tr>\n",
       "      <td>2</td>\n",
       "      <td>6.24</td>\n",
       "      <td>0.275</td>\n",
       "      <td>0.4775</td>\n",
       "      <td>9.514585</td>\n",
       "      <td>3.686667</td>\n",
       "      <td>168.640812</td>\n",
       "      <td>7.432087</td>\n",
       "      <td>12.904806</td>\n",
       "      <td>18.270119</td>\n",
       "    </tr>\n",
       "    <tr>\n",
       "      <td>3</td>\n",
       "      <td>6.22</td>\n",
       "      <td>0.280</td>\n",
       "      <td>0.4733</td>\n",
       "      <td>9.609669</td>\n",
       "      <td>3.680000</td>\n",
       "      <td>166.437003</td>\n",
       "      <td>7.492341</td>\n",
       "      <td>12.664732</td>\n",
       "      <td>17.950108</td>\n",
       "    </tr>\n",
       "    <tr>\n",
       "      <td>4</td>\n",
       "      <td>6.50</td>\n",
       "      <td>0.285</td>\n",
       "      <td>0.4692</td>\n",
       "      <td>9.514585</td>\n",
       "      <td>3.673333</td>\n",
       "      <td>175.667512</td>\n",
       "      <td>7.702345</td>\n",
       "      <td>12.680492</td>\n",
       "      <td>18.869719</td>\n",
       "    </tr>\n",
       "  </tbody>\n",
       "</table>\n",
       "</div>"
      ],
      "text/plain": [
       "   S&P Composite  Dividend  Earnings       CPI  Long Interest Rate  \\\n",
       "0           6.19     0.265    0.4858  9.419420            3.700000   \n",
       "1           6.17     0.270    0.4817  9.514585            3.693333   \n",
       "2           6.24     0.275    0.4775  9.514585            3.686667   \n",
       "3           6.22     0.280    0.4733  9.609669            3.680000   \n",
       "4           6.50     0.285    0.4692  9.514585            3.673333   \n",
       "\n",
       "   Real Price  Real Dividend  Real Earnings  Cyclically Adjusted PE Ratio  \n",
       "0  168.979665       7.234186      13.261764                     18.473952  \n",
       "1  166.749008       7.296958      13.018314                     18.147258  \n",
       "2  168.640812       7.432087      12.904806                     18.270119  \n",
       "3  166.437003       7.492341      12.664732                     17.950108  \n",
       "4  175.667512       7.702345      12.680492                     18.869719  "
      ]
     },
     "execution_count": 394,
     "metadata": {},
     "output_type": "execute_result"
    }
   ],
   "source": [
    "df.head()"
   ]
  },
  {
   "cell_type": "code",
   "execution_count": 395,
   "metadata": {},
   "outputs": [
    {
     "data": {
      "text/html": [
       "<div>\n",
       "<style scoped>\n",
       "    .dataframe tbody tr th:only-of-type {\n",
       "        vertical-align: middle;\n",
       "    }\n",
       "\n",
       "    .dataframe tbody tr th {\n",
       "        vertical-align: top;\n",
       "    }\n",
       "\n",
       "    .dataframe thead th {\n",
       "        text-align: right;\n",
       "    }\n",
       "</style>\n",
       "<table border=\"1\" class=\"dataframe\">\n",
       "  <thead>\n",
       "    <tr style=\"text-align: right;\">\n",
       "      <th></th>\n",
       "      <th>S&amp;P Composite</th>\n",
       "      <th>Dividend</th>\n",
       "      <th>Earnings</th>\n",
       "      <th>CPI</th>\n",
       "      <th>Long Interest Rate</th>\n",
       "      <th>Real Price</th>\n",
       "      <th>Real Dividend</th>\n",
       "      <th>Real Earnings</th>\n",
       "      <th>Cyclically Adjusted PE Ratio</th>\n",
       "      <th>Dividend/Earnings</th>\n",
       "    </tr>\n",
       "  </thead>\n",
       "  <tbody>\n",
       "    <tr>\n",
       "      <td>0</td>\n",
       "      <td>6.19</td>\n",
       "      <td>0.265</td>\n",
       "      <td>0.4858</td>\n",
       "      <td>9.419420</td>\n",
       "      <td>3.700000</td>\n",
       "      <td>168.979665</td>\n",
       "      <td>7.234186</td>\n",
       "      <td>13.261764</td>\n",
       "      <td>18.473952</td>\n",
       "      <td>0.545492</td>\n",
       "    </tr>\n",
       "    <tr>\n",
       "      <td>1</td>\n",
       "      <td>6.17</td>\n",
       "      <td>0.270</td>\n",
       "      <td>0.4817</td>\n",
       "      <td>9.514585</td>\n",
       "      <td>3.693333</td>\n",
       "      <td>166.749008</td>\n",
       "      <td>7.296958</td>\n",
       "      <td>13.018314</td>\n",
       "      <td>18.147258</td>\n",
       "      <td>0.560515</td>\n",
       "    </tr>\n",
       "    <tr>\n",
       "      <td>2</td>\n",
       "      <td>6.24</td>\n",
       "      <td>0.275</td>\n",
       "      <td>0.4775</td>\n",
       "      <td>9.514585</td>\n",
       "      <td>3.686667</td>\n",
       "      <td>168.640812</td>\n",
       "      <td>7.432087</td>\n",
       "      <td>12.904806</td>\n",
       "      <td>18.270119</td>\n",
       "      <td>0.575916</td>\n",
       "    </tr>\n",
       "    <tr>\n",
       "      <td>3</td>\n",
       "      <td>6.22</td>\n",
       "      <td>0.280</td>\n",
       "      <td>0.4733</td>\n",
       "      <td>9.609669</td>\n",
       "      <td>3.680000</td>\n",
       "      <td>166.437003</td>\n",
       "      <td>7.492341</td>\n",
       "      <td>12.664732</td>\n",
       "      <td>17.950108</td>\n",
       "      <td>0.591591</td>\n",
       "    </tr>\n",
       "    <tr>\n",
       "      <td>4</td>\n",
       "      <td>6.50</td>\n",
       "      <td>0.285</td>\n",
       "      <td>0.4692</td>\n",
       "      <td>9.514585</td>\n",
       "      <td>3.673333</td>\n",
       "      <td>175.667512</td>\n",
       "      <td>7.702345</td>\n",
       "      <td>12.680492</td>\n",
       "      <td>18.869719</td>\n",
       "      <td>0.607417</td>\n",
       "    </tr>\n",
       "  </tbody>\n",
       "</table>\n",
       "</div>"
      ],
      "text/plain": [
       "   S&P Composite  Dividend  Earnings       CPI  Long Interest Rate  \\\n",
       "0           6.19     0.265    0.4858  9.419420            3.700000   \n",
       "1           6.17     0.270    0.4817  9.514585            3.693333   \n",
       "2           6.24     0.275    0.4775  9.514585            3.686667   \n",
       "3           6.22     0.280    0.4733  9.609669            3.680000   \n",
       "4           6.50     0.285    0.4692  9.514585            3.673333   \n",
       "\n",
       "   Real Price  Real Dividend  Real Earnings  Cyclically Adjusted PE Ratio  \\\n",
       "0  168.979665       7.234186      13.261764                     18.473952   \n",
       "1  166.749008       7.296958      13.018314                     18.147258   \n",
       "2  168.640812       7.432087      12.904806                     18.270119   \n",
       "3  166.437003       7.492341      12.664732                     17.950108   \n",
       "4  175.667512       7.702345      12.680492                     18.869719   \n",
       "\n",
       "   Dividend/Earnings  \n",
       "0           0.545492  \n",
       "1           0.560515  \n",
       "2           0.575916  \n",
       "3           0.591591  \n",
       "4           0.607417  "
      ]
     },
     "execution_count": 395,
     "metadata": {},
     "output_type": "execute_result"
    }
   ],
   "source": [
    "df['Dividend/Earnings'] = df['Dividend']/df['Earnings']\n",
    "df.head()"
   ]
  },
  {
   "cell_type": "code",
   "execution_count": 396,
   "metadata": {},
   "outputs": [
    {
     "data": {
      "text/html": [
       "<div>\n",
       "<style scoped>\n",
       "    .dataframe tbody tr th:only-of-type {\n",
       "        vertical-align: middle;\n",
       "    }\n",
       "\n",
       "    .dataframe tbody tr th {\n",
       "        vertical-align: top;\n",
       "    }\n",
       "\n",
       "    .dataframe thead th {\n",
       "        text-align: right;\n",
       "    }\n",
       "</style>\n",
       "<table border=\"1\" class=\"dataframe\">\n",
       "  <thead>\n",
       "    <tr style=\"text-align: right;\">\n",
       "      <th></th>\n",
       "      <th>S&amp;P Composite</th>\n",
       "      <th>Dividend</th>\n",
       "      <th>Earnings</th>\n",
       "      <th>CPI</th>\n",
       "      <th>Long Interest Rate</th>\n",
       "      <th>Real Price</th>\n",
       "      <th>Real Dividend</th>\n",
       "      <th>Real Earnings</th>\n",
       "      <th>Cyclically Adjusted PE Ratio</th>\n",
       "      <th>Dividend/Earnings</th>\n",
       "      <th>Inflation rate</th>\n",
       "    </tr>\n",
       "  </thead>\n",
       "  <tbody>\n",
       "    <tr>\n",
       "      <td>0</td>\n",
       "      <td>6.19</td>\n",
       "      <td>0.265</td>\n",
       "      <td>0.4858</td>\n",
       "      <td>9.419420</td>\n",
       "      <td>3.700000</td>\n",
       "      <td>168.979665</td>\n",
       "      <td>7.234186</td>\n",
       "      <td>13.261764</td>\n",
       "      <td>18.473952</td>\n",
       "      <td>0.545492</td>\n",
       "      <td>0.000000</td>\n",
       "    </tr>\n",
       "    <tr>\n",
       "      <td>1</td>\n",
       "      <td>6.17</td>\n",
       "      <td>0.270</td>\n",
       "      <td>0.4817</td>\n",
       "      <td>9.514585</td>\n",
       "      <td>3.693333</td>\n",
       "      <td>166.749008</td>\n",
       "      <td>7.296958</td>\n",
       "      <td>13.018314</td>\n",
       "      <td>18.147258</td>\n",
       "      <td>0.560515</td>\n",
       "      <td>1.000204</td>\n",
       "    </tr>\n",
       "    <tr>\n",
       "      <td>2</td>\n",
       "      <td>6.24</td>\n",
       "      <td>0.275</td>\n",
       "      <td>0.4775</td>\n",
       "      <td>9.514585</td>\n",
       "      <td>3.686667</td>\n",
       "      <td>168.640812</td>\n",
       "      <td>7.432087</td>\n",
       "      <td>12.904806</td>\n",
       "      <td>18.270119</td>\n",
       "      <td>0.575916</td>\n",
       "      <td>0.000000</td>\n",
       "    </tr>\n",
       "    <tr>\n",
       "      <td>3</td>\n",
       "      <td>6.22</td>\n",
       "      <td>0.280</td>\n",
       "      <td>0.4733</td>\n",
       "      <td>9.609669</td>\n",
       "      <td>3.680000</td>\n",
       "      <td>166.437003</td>\n",
       "      <td>7.492341</td>\n",
       "      <td>12.664732</td>\n",
       "      <td>17.950108</td>\n",
       "      <td>0.591591</td>\n",
       "      <td>0.989465</td>\n",
       "    </tr>\n",
       "    <tr>\n",
       "      <td>4</td>\n",
       "      <td>6.50</td>\n",
       "      <td>0.285</td>\n",
       "      <td>0.4692</td>\n",
       "      <td>9.514585</td>\n",
       "      <td>3.673333</td>\n",
       "      <td>175.667512</td>\n",
       "      <td>7.702345</td>\n",
       "      <td>12.680492</td>\n",
       "      <td>18.869719</td>\n",
       "      <td>0.607417</td>\n",
       "      <td>-0.999353</td>\n",
       "    </tr>\n",
       "  </tbody>\n",
       "</table>\n",
       "</div>"
      ],
      "text/plain": [
       "   S&P Composite  Dividend  Earnings       CPI  Long Interest Rate  \\\n",
       "0           6.19     0.265    0.4858  9.419420            3.700000   \n",
       "1           6.17     0.270    0.4817  9.514585            3.693333   \n",
       "2           6.24     0.275    0.4775  9.514585            3.686667   \n",
       "3           6.22     0.280    0.4733  9.609669            3.680000   \n",
       "4           6.50     0.285    0.4692  9.514585            3.673333   \n",
       "\n",
       "   Real Price  Real Dividend  Real Earnings  Cyclically Adjusted PE Ratio  \\\n",
       "0  168.979665       7.234186      13.261764                     18.473952   \n",
       "1  166.749008       7.296958      13.018314                     18.147258   \n",
       "2  168.640812       7.432087      12.904806                     18.270119   \n",
       "3  166.437003       7.492341      12.664732                     17.950108   \n",
       "4  175.667512       7.702345      12.680492                     18.869719   \n",
       "\n",
       "   Dividend/Earnings  Inflation rate  \n",
       "0           0.545492        0.000000  \n",
       "1           0.560515        1.000204  \n",
       "2           0.575916        0.000000  \n",
       "3           0.591591        0.989465  \n",
       "4           0.607417       -0.999353  "
      ]
     },
     "execution_count": 396,
     "metadata": {},
     "output_type": "execute_result"
    }
   ],
   "source": [
    "df['Inflation rate'] = (df['CPI'].diff()/df['CPI']).replace(np.nan,0)\n",
    "df['Inflation rate']= df['Inflation rate']*100\n",
    "df.head()"
   ]
  },
  {
   "cell_type": "code",
   "execution_count": 397,
   "metadata": {},
   "outputs": [
    {
     "data": {
      "text/html": [
       "<div>\n",
       "<style scoped>\n",
       "    .dataframe tbody tr th:only-of-type {\n",
       "        vertical-align: middle;\n",
       "    }\n",
       "\n",
       "    .dataframe tbody tr th {\n",
       "        vertical-align: top;\n",
       "    }\n",
       "\n",
       "    .dataframe thead th {\n",
       "        text-align: right;\n",
       "    }\n",
       "</style>\n",
       "<table border=\"1\" class=\"dataframe\">\n",
       "  <thead>\n",
       "    <tr style=\"text-align: right;\">\n",
       "      <th></th>\n",
       "      <th>S&amp;P Composite</th>\n",
       "      <th>Dividend</th>\n",
       "      <th>Earnings</th>\n",
       "      <th>CPI</th>\n",
       "      <th>Long Interest Rate</th>\n",
       "      <th>Real Price</th>\n",
       "      <th>Real Dividend</th>\n",
       "      <th>Real Earnings</th>\n",
       "      <th>Cyclically Adjusted PE Ratio</th>\n",
       "      <th>Dividend/Earnings</th>\n",
       "      <th>Inflation rate</th>\n",
       "      <th>% change in index due to Inflation</th>\n",
       "    </tr>\n",
       "  </thead>\n",
       "  <tbody>\n",
       "    <tr>\n",
       "      <td>0</td>\n",
       "      <td>6.19</td>\n",
       "      <td>0.265</td>\n",
       "      <td>0.4858</td>\n",
       "      <td>9.419420</td>\n",
       "      <td>3.700000</td>\n",
       "      <td>168.979665</td>\n",
       "      <td>7.234186</td>\n",
       "      <td>13.261764</td>\n",
       "      <td>18.473952</td>\n",
       "      <td>0.545492</td>\n",
       "      <td>0.000000</td>\n",
       "      <td>-96.336837</td>\n",
       "    </tr>\n",
       "    <tr>\n",
       "      <td>1</td>\n",
       "      <td>6.17</td>\n",
       "      <td>0.270</td>\n",
       "      <td>0.4817</td>\n",
       "      <td>9.514585</td>\n",
       "      <td>3.693333</td>\n",
       "      <td>166.749008</td>\n",
       "      <td>7.296958</td>\n",
       "      <td>13.018314</td>\n",
       "      <td>18.147258</td>\n",
       "      <td>0.560515</td>\n",
       "      <td>1.000204</td>\n",
       "      <td>-96.299828</td>\n",
       "    </tr>\n",
       "    <tr>\n",
       "      <td>2</td>\n",
       "      <td>6.24</td>\n",
       "      <td>0.275</td>\n",
       "      <td>0.4775</td>\n",
       "      <td>9.514585</td>\n",
       "      <td>3.686667</td>\n",
       "      <td>168.640812</td>\n",
       "      <td>7.432087</td>\n",
       "      <td>12.904806</td>\n",
       "      <td>18.270119</td>\n",
       "      <td>0.575916</td>\n",
       "      <td>0.000000</td>\n",
       "      <td>-96.299828</td>\n",
       "    </tr>\n",
       "    <tr>\n",
       "      <td>3</td>\n",
       "      <td>6.22</td>\n",
       "      <td>0.280</td>\n",
       "      <td>0.4733</td>\n",
       "      <td>9.609669</td>\n",
       "      <td>3.680000</td>\n",
       "      <td>166.437003</td>\n",
       "      <td>7.492341</td>\n",
       "      <td>12.664732</td>\n",
       "      <td>17.950108</td>\n",
       "      <td>0.591591</td>\n",
       "      <td>0.989465</td>\n",
       "      <td>-96.262850</td>\n",
       "    </tr>\n",
       "    <tr>\n",
       "      <td>4</td>\n",
       "      <td>6.50</td>\n",
       "      <td>0.285</td>\n",
       "      <td>0.4692</td>\n",
       "      <td>9.514585</td>\n",
       "      <td>3.673333</td>\n",
       "      <td>175.667512</td>\n",
       "      <td>7.702345</td>\n",
       "      <td>12.680492</td>\n",
       "      <td>18.869719</td>\n",
       "      <td>0.607417</td>\n",
       "      <td>-0.999353</td>\n",
       "      <td>-96.299828</td>\n",
       "    </tr>\n",
       "  </tbody>\n",
       "</table>\n",
       "</div>"
      ],
      "text/plain": [
       "   S&P Composite  Dividend  Earnings       CPI  Long Interest Rate  \\\n",
       "0           6.19     0.265    0.4858  9.419420            3.700000   \n",
       "1           6.17     0.270    0.4817  9.514585            3.693333   \n",
       "2           6.24     0.275    0.4775  9.514585            3.686667   \n",
       "3           6.22     0.280    0.4733  9.609669            3.680000   \n",
       "4           6.50     0.285    0.4692  9.514585            3.673333   \n",
       "\n",
       "   Real Price  Real Dividend  Real Earnings  Cyclically Adjusted PE Ratio  \\\n",
       "0  168.979665       7.234186      13.261764                     18.473952   \n",
       "1  166.749008       7.296958      13.018314                     18.147258   \n",
       "2  168.640812       7.432087      12.904806                     18.270119   \n",
       "3  166.437003       7.492341      12.664732                     17.950108   \n",
       "4  175.667512       7.702345      12.680492                     18.869719   \n",
       "\n",
       "   Dividend/Earnings  Inflation rate  % change in index due to Inflation  \n",
       "0           0.545492        0.000000                          -96.336837  \n",
       "1           0.560515        1.000204                          -96.299828  \n",
       "2           0.575916        0.000000                          -96.299828  \n",
       "3           0.591591        0.989465                          -96.262850  \n",
       "4           0.607417       -0.999353                          -96.299828  "
      ]
     },
     "execution_count": 397,
     "metadata": {},
     "output_type": "execute_result"
    }
   ],
   "source": [
    "df['% change in index due to Inflation'] = ((df['S&P Composite']-df['Real Price'])/df['Real Price'])*100\n",
    "df.head()"
   ]
  },
  {
   "cell_type": "code",
   "execution_count": 398,
   "metadata": {},
   "outputs": [
    {
     "data": {
      "text/html": [
       "<div>\n",
       "<style scoped>\n",
       "    .dataframe tbody tr th:only-of-type {\n",
       "        vertical-align: middle;\n",
       "    }\n",
       "\n",
       "    .dataframe tbody tr th {\n",
       "        vertical-align: top;\n",
       "    }\n",
       "\n",
       "    .dataframe thead th {\n",
       "        text-align: right;\n",
       "    }\n",
       "</style>\n",
       "<table border=\"1\" class=\"dataframe\">\n",
       "  <thead>\n",
       "    <tr style=\"text-align: right;\">\n",
       "      <th></th>\n",
       "      <th>S&amp;P Composite</th>\n",
       "      <th>Dividend</th>\n",
       "      <th>Earnings</th>\n",
       "      <th>CPI</th>\n",
       "      <th>Long Interest Rate</th>\n",
       "      <th>Real Price</th>\n",
       "      <th>Real Dividend</th>\n",
       "      <th>Real Earnings</th>\n",
       "      <th>Cyclically Adjusted PE Ratio</th>\n",
       "      <th>Dividend/Earnings</th>\n",
       "      <th>Inflation rate</th>\n",
       "      <th>% change in index due to Inflation</th>\n",
       "      <th>Real Dividend/Real Earnings</th>\n",
       "    </tr>\n",
       "  </thead>\n",
       "  <tbody>\n",
       "    <tr>\n",
       "      <td>0</td>\n",
       "      <td>6.19</td>\n",
       "      <td>0.265</td>\n",
       "      <td>0.4858</td>\n",
       "      <td>9.419420</td>\n",
       "      <td>3.700000</td>\n",
       "      <td>168.979665</td>\n",
       "      <td>7.234186</td>\n",
       "      <td>13.261764</td>\n",
       "      <td>18.473952</td>\n",
       "      <td>0.545492</td>\n",
       "      <td>0.000000</td>\n",
       "      <td>-96.336837</td>\n",
       "      <td>0.545492</td>\n",
       "    </tr>\n",
       "    <tr>\n",
       "      <td>1</td>\n",
       "      <td>6.17</td>\n",
       "      <td>0.270</td>\n",
       "      <td>0.4817</td>\n",
       "      <td>9.514585</td>\n",
       "      <td>3.693333</td>\n",
       "      <td>166.749008</td>\n",
       "      <td>7.296958</td>\n",
       "      <td>13.018314</td>\n",
       "      <td>18.147258</td>\n",
       "      <td>0.560515</td>\n",
       "      <td>1.000204</td>\n",
       "      <td>-96.299828</td>\n",
       "      <td>0.560515</td>\n",
       "    </tr>\n",
       "    <tr>\n",
       "      <td>2</td>\n",
       "      <td>6.24</td>\n",
       "      <td>0.275</td>\n",
       "      <td>0.4775</td>\n",
       "      <td>9.514585</td>\n",
       "      <td>3.686667</td>\n",
       "      <td>168.640812</td>\n",
       "      <td>7.432087</td>\n",
       "      <td>12.904806</td>\n",
       "      <td>18.270119</td>\n",
       "      <td>0.575916</td>\n",
       "      <td>0.000000</td>\n",
       "      <td>-96.299828</td>\n",
       "      <td>0.575916</td>\n",
       "    </tr>\n",
       "    <tr>\n",
       "      <td>3</td>\n",
       "      <td>6.22</td>\n",
       "      <td>0.280</td>\n",
       "      <td>0.4733</td>\n",
       "      <td>9.609669</td>\n",
       "      <td>3.680000</td>\n",
       "      <td>166.437003</td>\n",
       "      <td>7.492341</td>\n",
       "      <td>12.664732</td>\n",
       "      <td>17.950108</td>\n",
       "      <td>0.591591</td>\n",
       "      <td>0.989465</td>\n",
       "      <td>-96.262850</td>\n",
       "      <td>0.591591</td>\n",
       "    </tr>\n",
       "    <tr>\n",
       "      <td>4</td>\n",
       "      <td>6.50</td>\n",
       "      <td>0.285</td>\n",
       "      <td>0.4692</td>\n",
       "      <td>9.514585</td>\n",
       "      <td>3.673333</td>\n",
       "      <td>175.667512</td>\n",
       "      <td>7.702345</td>\n",
       "      <td>12.680492</td>\n",
       "      <td>18.869719</td>\n",
       "      <td>0.607417</td>\n",
       "      <td>-0.999353</td>\n",
       "      <td>-96.299828</td>\n",
       "      <td>0.607417</td>\n",
       "    </tr>\n",
       "  </tbody>\n",
       "</table>\n",
       "</div>"
      ],
      "text/plain": [
       "   S&P Composite  Dividend  Earnings       CPI  Long Interest Rate  \\\n",
       "0           6.19     0.265    0.4858  9.419420            3.700000   \n",
       "1           6.17     0.270    0.4817  9.514585            3.693333   \n",
       "2           6.24     0.275    0.4775  9.514585            3.686667   \n",
       "3           6.22     0.280    0.4733  9.609669            3.680000   \n",
       "4           6.50     0.285    0.4692  9.514585            3.673333   \n",
       "\n",
       "   Real Price  Real Dividend  Real Earnings  Cyclically Adjusted PE Ratio  \\\n",
       "0  168.979665       7.234186      13.261764                     18.473952   \n",
       "1  166.749008       7.296958      13.018314                     18.147258   \n",
       "2  168.640812       7.432087      12.904806                     18.270119   \n",
       "3  166.437003       7.492341      12.664732                     17.950108   \n",
       "4  175.667512       7.702345      12.680492                     18.869719   \n",
       "\n",
       "   Dividend/Earnings  Inflation rate  % change in index due to Inflation  \\\n",
       "0           0.545492        0.000000                          -96.336837   \n",
       "1           0.560515        1.000204                          -96.299828   \n",
       "2           0.575916        0.000000                          -96.299828   \n",
       "3           0.591591        0.989465                          -96.262850   \n",
       "4           0.607417       -0.999353                          -96.299828   \n",
       "\n",
       "   Real Dividend/Real Earnings  \n",
       "0                     0.545492  \n",
       "1                     0.560515  \n",
       "2                     0.575916  \n",
       "3                     0.591591  \n",
       "4                     0.607417  "
      ]
     },
     "execution_count": 398,
     "metadata": {},
     "output_type": "execute_result"
    }
   ],
   "source": [
    "df['Real Dividend/Real Earnings'] = df['Real Dividend']/df['Real Earnings']\n",
    "df.head()"
   ]
  },
  {
   "cell_type": "code",
   "execution_count": 399,
   "metadata": {},
   "outputs": [],
   "source": [
    "df['change in D_E due to inflation'] = df['Dividend/Earnings']- df['Real Dividend/Real Earnings']"
   ]
  },
  {
   "cell_type": "code",
   "execution_count": 400,
   "metadata": {},
   "outputs": [
    {
     "data": {
      "text/html": [
       "<div>\n",
       "<style scoped>\n",
       "    .dataframe tbody tr th:only-of-type {\n",
       "        vertical-align: middle;\n",
       "    }\n",
       "\n",
       "    .dataframe tbody tr th {\n",
       "        vertical-align: top;\n",
       "    }\n",
       "\n",
       "    .dataframe thead th {\n",
       "        text-align: right;\n",
       "    }\n",
       "</style>\n",
       "<table border=\"1\" class=\"dataframe\">\n",
       "  <thead>\n",
       "    <tr style=\"text-align: right;\">\n",
       "      <th></th>\n",
       "      <th>S&amp;P Composite</th>\n",
       "      <th>Dividend</th>\n",
       "      <th>Earnings</th>\n",
       "      <th>CPI</th>\n",
       "      <th>Long Interest Rate</th>\n",
       "      <th>Real Price</th>\n",
       "      <th>Real Dividend</th>\n",
       "      <th>Real Earnings</th>\n",
       "      <th>Cyclically Adjusted PE Ratio</th>\n",
       "      <th>Dividend/Earnings</th>\n",
       "      <th>Inflation rate</th>\n",
       "      <th>% change in index due to Inflation</th>\n",
       "      <th>Real Dividend/Real Earnings</th>\n",
       "      <th>change in D_E due to inflation</th>\n",
       "    </tr>\n",
       "  </thead>\n",
       "  <tbody>\n",
       "    <tr>\n",
       "      <td>0</td>\n",
       "      <td>6.19</td>\n",
       "      <td>0.265</td>\n",
       "      <td>0.4858</td>\n",
       "      <td>9.419420</td>\n",
       "      <td>3.700000</td>\n",
       "      <td>168.979665</td>\n",
       "      <td>7.234186</td>\n",
       "      <td>13.261764</td>\n",
       "      <td>18.473952</td>\n",
       "      <td>0.545492</td>\n",
       "      <td>0.000000</td>\n",
       "      <td>-96.336837</td>\n",
       "      <td>0.545492</td>\n",
       "      <td>-7.660539e-15</td>\n",
       "    </tr>\n",
       "    <tr>\n",
       "      <td>1</td>\n",
       "      <td>6.17</td>\n",
       "      <td>0.270</td>\n",
       "      <td>0.4817</td>\n",
       "      <td>9.514585</td>\n",
       "      <td>3.693333</td>\n",
       "      <td>166.749008</td>\n",
       "      <td>7.296958</td>\n",
       "      <td>13.018314</td>\n",
       "      <td>18.147258</td>\n",
       "      <td>0.560515</td>\n",
       "      <td>1.000204</td>\n",
       "      <td>-96.299828</td>\n",
       "      <td>0.560515</td>\n",
       "      <td>-5.551115e-16</td>\n",
       "    </tr>\n",
       "    <tr>\n",
       "      <td>2</td>\n",
       "      <td>6.24</td>\n",
       "      <td>0.275</td>\n",
       "      <td>0.4775</td>\n",
       "      <td>9.514585</td>\n",
       "      <td>3.686667</td>\n",
       "      <td>168.640812</td>\n",
       "      <td>7.432087</td>\n",
       "      <td>12.904806</td>\n",
       "      <td>18.270119</td>\n",
       "      <td>0.575916</td>\n",
       "      <td>0.000000</td>\n",
       "      <td>-96.299828</td>\n",
       "      <td>0.575916</td>\n",
       "      <td>-2.320366e-14</td>\n",
       "    </tr>\n",
       "    <tr>\n",
       "      <td>3</td>\n",
       "      <td>6.22</td>\n",
       "      <td>0.280</td>\n",
       "      <td>0.4733</td>\n",
       "      <td>9.609669</td>\n",
       "      <td>3.680000</td>\n",
       "      <td>166.437003</td>\n",
       "      <td>7.492341</td>\n",
       "      <td>12.664732</td>\n",
       "      <td>17.950108</td>\n",
       "      <td>0.591591</td>\n",
       "      <td>0.989465</td>\n",
       "      <td>-96.262850</td>\n",
       "      <td>0.591591</td>\n",
       "      <td>7.549517e-15</td>\n",
       "    </tr>\n",
       "    <tr>\n",
       "      <td>4</td>\n",
       "      <td>6.50</td>\n",
       "      <td>0.285</td>\n",
       "      <td>0.4692</td>\n",
       "      <td>9.514585</td>\n",
       "      <td>3.673333</td>\n",
       "      <td>175.667512</td>\n",
       "      <td>7.702345</td>\n",
       "      <td>12.680492</td>\n",
       "      <td>18.869719</td>\n",
       "      <td>0.607417</td>\n",
       "      <td>-0.999353</td>\n",
       "      <td>-96.299828</td>\n",
       "      <td>0.607417</td>\n",
       "      <td>1.110223e-15</td>\n",
       "    </tr>\n",
       "  </tbody>\n",
       "</table>\n",
       "</div>"
      ],
      "text/plain": [
       "   S&P Composite  Dividend  Earnings       CPI  Long Interest Rate  \\\n",
       "0           6.19     0.265    0.4858  9.419420            3.700000   \n",
       "1           6.17     0.270    0.4817  9.514585            3.693333   \n",
       "2           6.24     0.275    0.4775  9.514585            3.686667   \n",
       "3           6.22     0.280    0.4733  9.609669            3.680000   \n",
       "4           6.50     0.285    0.4692  9.514585            3.673333   \n",
       "\n",
       "   Real Price  Real Dividend  Real Earnings  Cyclically Adjusted PE Ratio  \\\n",
       "0  168.979665       7.234186      13.261764                     18.473952   \n",
       "1  166.749008       7.296958      13.018314                     18.147258   \n",
       "2  168.640812       7.432087      12.904806                     18.270119   \n",
       "3  166.437003       7.492341      12.664732                     17.950108   \n",
       "4  175.667512       7.702345      12.680492                     18.869719   \n",
       "\n",
       "   Dividend/Earnings  Inflation rate  % change in index due to Inflation  \\\n",
       "0           0.545492        0.000000                          -96.336837   \n",
       "1           0.560515        1.000204                          -96.299828   \n",
       "2           0.575916        0.000000                          -96.299828   \n",
       "3           0.591591        0.989465                          -96.262850   \n",
       "4           0.607417       -0.999353                          -96.299828   \n",
       "\n",
       "   Real Dividend/Real Earnings  change in D_E due to inflation  \n",
       "0                     0.545492                   -7.660539e-15  \n",
       "1                     0.560515                   -5.551115e-16  \n",
       "2                     0.575916                   -2.320366e-14  \n",
       "3                     0.591591                    7.549517e-15  \n",
       "4                     0.607417                    1.110223e-15  "
      ]
     },
     "execution_count": 400,
     "metadata": {},
     "output_type": "execute_result"
    }
   ],
   "source": [
    "df.head()"
   ]
  },
  {
   "cell_type": "markdown",
   "metadata": {},
   "source": [
    "### dropping columns "
   ]
  },
  {
   "cell_type": "code",
   "execution_count": 469,
   "metadata": {},
   "outputs": [
    {
     "data": {
      "text/html": [
       "<div>\n",
       "<style scoped>\n",
       "    .dataframe tbody tr th:only-of-type {\n",
       "        vertical-align: middle;\n",
       "    }\n",
       "\n",
       "    .dataframe tbody tr th {\n",
       "        vertical-align: top;\n",
       "    }\n",
       "\n",
       "    .dataframe thead th {\n",
       "        text-align: right;\n",
       "    }\n",
       "</style>\n",
       "<table border=\"1\" class=\"dataframe\">\n",
       "  <thead>\n",
       "    <tr style=\"text-align: right;\">\n",
       "      <th></th>\n",
       "      <th>S&amp;P Composite</th>\n",
       "      <th>CPI</th>\n",
       "      <th>Long Interest Rate</th>\n",
       "      <th>Real Price</th>\n",
       "      <th>Cyclically Adjusted PE Ratio</th>\n",
       "      <th>Dividend/Earnings</th>\n",
       "      <th>Inflation rate</th>\n",
       "      <th>% change in index due to Inflation</th>\n",
       "      <th>change in D_E due to inflation</th>\n",
       "    </tr>\n",
       "  </thead>\n",
       "  <tbody>\n",
       "    <tr>\n",
       "      <td>0</td>\n",
       "      <td>6.19</td>\n",
       "      <td>9.419420</td>\n",
       "      <td>3.700000</td>\n",
       "      <td>168.979665</td>\n",
       "      <td>18.473952</td>\n",
       "      <td>0.545492</td>\n",
       "      <td>0.000000</td>\n",
       "      <td>-96.336837</td>\n",
       "      <td>-7.660539e-15</td>\n",
       "    </tr>\n",
       "    <tr>\n",
       "      <td>1</td>\n",
       "      <td>6.17</td>\n",
       "      <td>9.514585</td>\n",
       "      <td>3.693333</td>\n",
       "      <td>166.749008</td>\n",
       "      <td>18.147258</td>\n",
       "      <td>0.560515</td>\n",
       "      <td>1.000204</td>\n",
       "      <td>-96.299828</td>\n",
       "      <td>-5.551115e-16</td>\n",
       "    </tr>\n",
       "    <tr>\n",
       "      <td>2</td>\n",
       "      <td>6.24</td>\n",
       "      <td>9.514585</td>\n",
       "      <td>3.686667</td>\n",
       "      <td>168.640812</td>\n",
       "      <td>18.270119</td>\n",
       "      <td>0.575916</td>\n",
       "      <td>0.000000</td>\n",
       "      <td>-96.299828</td>\n",
       "      <td>-2.320366e-14</td>\n",
       "    </tr>\n",
       "    <tr>\n",
       "      <td>3</td>\n",
       "      <td>6.22</td>\n",
       "      <td>9.609669</td>\n",
       "      <td>3.680000</td>\n",
       "      <td>166.437003</td>\n",
       "      <td>17.950108</td>\n",
       "      <td>0.591591</td>\n",
       "      <td>0.989465</td>\n",
       "      <td>-96.262850</td>\n",
       "      <td>7.549517e-15</td>\n",
       "    </tr>\n",
       "    <tr>\n",
       "      <td>4</td>\n",
       "      <td>6.50</td>\n",
       "      <td>9.514585</td>\n",
       "      <td>3.673333</td>\n",
       "      <td>175.667512</td>\n",
       "      <td>18.869719</td>\n",
       "      <td>0.607417</td>\n",
       "      <td>-0.999353</td>\n",
       "      <td>-96.299828</td>\n",
       "      <td>1.110223e-15</td>\n",
       "    </tr>\n",
       "  </tbody>\n",
       "</table>\n",
       "</div>"
      ],
      "text/plain": [
       "   S&P Composite       CPI  Long Interest Rate  Real Price  \\\n",
       "0           6.19  9.419420            3.700000  168.979665   \n",
       "1           6.17  9.514585            3.693333  166.749008   \n",
       "2           6.24  9.514585            3.686667  168.640812   \n",
       "3           6.22  9.609669            3.680000  166.437003   \n",
       "4           6.50  9.514585            3.673333  175.667512   \n",
       "\n",
       "   Cyclically Adjusted PE Ratio  Dividend/Earnings  Inflation rate  \\\n",
       "0                     18.473952           0.545492        0.000000   \n",
       "1                     18.147258           0.560515        1.000204   \n",
       "2                     18.270119           0.575916        0.000000   \n",
       "3                     17.950108           0.591591        0.989465   \n",
       "4                     18.869719           0.607417       -0.999353   \n",
       "\n",
       "   % change in index due to Inflation  change in D_E due to inflation  \n",
       "0                          -96.336837                   -7.660539e-15  \n",
       "1                          -96.299828                   -5.551115e-16  \n",
       "2                          -96.299828                   -2.320366e-14  \n",
       "3                          -96.262850                    7.549517e-15  \n",
       "4                          -96.299828                    1.110223e-15  "
      ]
     },
     "execution_count": 469,
     "metadata": {},
     "output_type": "execute_result"
    }
   ],
   "source": [
    "df1 = df.drop(columns=['Dividend','Earnings','Real Dividend','Real Earnings','Real Dividend/Real Earnings'],axis=1)\n",
    "df1.head()"
   ]
  },
  {
   "cell_type": "code",
   "execution_count": 470,
   "metadata": {},
   "outputs": [],
   "source": [
    "df1=df1.drop(columns=['CPI','Real Price'],axis=1)"
   ]
  },
  {
   "cell_type": "markdown",
   "metadata": {},
   "source": [
    "### Building model with transformed features "
   ]
  },
  {
   "cell_type": "code",
   "execution_count": 471,
   "metadata": {},
   "outputs": [
    {
     "name": "stdout",
     "output_type": "stream",
     "text": [
      "(1165, 6)\n",
      "(500, 6)\n",
      "(500,)\n"
     ]
    }
   ],
   "source": [
    "x=df1.drop(columns='S&P Composite',axis=1)\n",
    "y=df1['S&P Composite']\n",
    "x_train,x_test,y_train,y_test=train_test_split(x,y,test_size=0.30,random_state=2)\n",
    "print(x_train.shape)\n",
    "print(x_test.shape)\n",
    "print(y_test.shape)"
   ]
  },
  {
   "cell_type": "code",
   "execution_count": 472,
   "metadata": {},
   "outputs": [],
   "source": [
    "x_const=sm.add_constant(x_train)"
   ]
  },
  {
   "cell_type": "code",
   "execution_count": 473,
   "metadata": {},
   "outputs": [
    {
     "data": {
      "text/html": [
       "<table class=\"simpletable\">\n",
       "<caption>OLS Regression Results</caption>\n",
       "<tr>\n",
       "  <th>Dep. Variable:</th>      <td>S&P Composite</td>  <th>  R-squared:         </th> <td>   0.909</td> \n",
       "</tr>\n",
       "<tr>\n",
       "  <th>Model:</th>                   <td>OLS</td>       <th>  Adj. R-squared:    </th> <td>   0.908</td> \n",
       "</tr>\n",
       "<tr>\n",
       "  <th>Method:</th>             <td>Least Squares</td>  <th>  F-statistic:       </th> <td>   2305.</td> \n",
       "</tr>\n",
       "<tr>\n",
       "  <th>Date:</th>             <td>Thu, 23 Jan 2020</td> <th>  Prob (F-statistic):</th>  <td>  0.00</td>  \n",
       "</tr>\n",
       "<tr>\n",
       "  <th>Time:</th>                 <td>15:50:58</td>     <th>  Log-Likelihood:    </th> <td> -7658.7</td> \n",
       "</tr>\n",
       "<tr>\n",
       "  <th>No. Observations:</th>      <td>  1165</td>      <th>  AIC:               </th> <td>1.533e+04</td>\n",
       "</tr>\n",
       "<tr>\n",
       "  <th>Df Residuals:</th>          <td>  1159</td>      <th>  BIC:               </th> <td>1.536e+04</td>\n",
       "</tr>\n",
       "<tr>\n",
       "  <th>Df Model:</th>              <td>     5</td>      <th>                     </th>     <td> </td>    \n",
       "</tr>\n",
       "<tr>\n",
       "  <th>Covariance Type:</th>      <td>nonrobust</td>    <th>                     </th>     <td> </td>    \n",
       "</tr>\n",
       "</table>\n",
       "<table class=\"simpletable\">\n",
       "<tr>\n",
       "                   <td></td>                     <th>coef</th>     <th>std err</th>      <th>t</th>      <th>P>|t|</th>  <th>[0.025</th>    <th>0.975]</th>  \n",
       "</tr>\n",
       "<tr>\n",
       "  <th>const</th>                              <td> 1791.8343</td> <td>   40.871</td> <td>   43.841</td> <td> 0.000</td> <td> 1711.645</td> <td> 1872.023</td>\n",
       "</tr>\n",
       "<tr>\n",
       "  <th>Long Interest Rate</th>                 <td>  -57.5840</td> <td>    2.465</td> <td>  -23.361</td> <td> 0.000</td> <td>  -62.420</td> <td>  -52.748</td>\n",
       "</tr>\n",
       "<tr>\n",
       "  <th>Cyclically Adjusted PE Ratio</th>       <td>    9.0516</td> <td>    1.042</td> <td>    8.685</td> <td> 0.000</td> <td>    7.007</td> <td>   11.096</td>\n",
       "</tr>\n",
       "<tr>\n",
       "  <th>Dividend/Earnings</th>                  <td>  -85.9412</td> <td>   22.129</td> <td>   -3.884</td> <td> 0.000</td> <td> -129.358</td> <td>  -42.525</td>\n",
       "</tr>\n",
       "<tr>\n",
       "  <th>Inflation rate</th>                     <td>    0.3859</td> <td>    5.462</td> <td>    0.071</td> <td> 0.944</td> <td>  -10.332</td> <td>   11.103</td>\n",
       "</tr>\n",
       "<tr>\n",
       "  <th>% change in index due to Inflation</th> <td>   17.6712</td> <td>    0.231</td> <td>   76.345</td> <td> 0.000</td> <td>   17.217</td> <td>   18.125</td>\n",
       "</tr>\n",
       "<tr>\n",
       "  <th>change in D_E due to inflation</th>     <td>-7.343e-12</td> <td> 1.92e-13</td> <td>  -38.221</td> <td> 0.000</td> <td>-7.72e-12</td> <td>-6.97e-12</td>\n",
       "</tr>\n",
       "</table>\n",
       "<table class=\"simpletable\">\n",
       "<tr>\n",
       "  <th>Omnibus:</th>       <td>575.342</td> <th>  Durbin-Watson:     </th> <td>   1.956</td>\n",
       "</tr>\n",
       "<tr>\n",
       "  <th>Prob(Omnibus):</th> <td> 0.000</td>  <th>  Jarque-Bera (JB):  </th> <td>6847.991</td>\n",
       "</tr>\n",
       "<tr>\n",
       "  <th>Skew:</th>          <td> 1.981</td>  <th>  Prob(JB):          </th> <td>    0.00</td>\n",
       "</tr>\n",
       "<tr>\n",
       "  <th>Kurtosis:</th>      <td>14.197</td>  <th>  Cond. No.          </th> <td>6.20e+15</td>\n",
       "</tr>\n",
       "</table><br/><br/>Warnings:<br/>[1] Standard Errors assume that the covariance matrix of the errors is correctly specified.<br/>[2] The smallest eigenvalue is 2.08e-25. This might indicate that there are<br/>strong multicollinearity problems or that the design matrix is singular."
      ],
      "text/plain": [
       "<class 'statsmodels.iolib.summary.Summary'>\n",
       "\"\"\"\n",
       "                            OLS Regression Results                            \n",
       "==============================================================================\n",
       "Dep. Variable:          S&P Composite   R-squared:                       0.909\n",
       "Model:                            OLS   Adj. R-squared:                  0.908\n",
       "Method:                 Least Squares   F-statistic:                     2305.\n",
       "Date:                Thu, 23 Jan 2020   Prob (F-statistic):               0.00\n",
       "Time:                        15:50:58   Log-Likelihood:                -7658.7\n",
       "No. Observations:                1165   AIC:                         1.533e+04\n",
       "Df Residuals:                    1159   BIC:                         1.536e+04\n",
       "Df Model:                           5                                         \n",
       "Covariance Type:            nonrobust                                         \n",
       "======================================================================================================\n",
       "                                         coef    std err          t      P>|t|      [0.025      0.975]\n",
       "------------------------------------------------------------------------------------------------------\n",
       "const                               1791.8343     40.871     43.841      0.000    1711.645    1872.023\n",
       "Long Interest Rate                   -57.5840      2.465    -23.361      0.000     -62.420     -52.748\n",
       "Cyclically Adjusted PE Ratio           9.0516      1.042      8.685      0.000       7.007      11.096\n",
       "Dividend/Earnings                    -85.9412     22.129     -3.884      0.000    -129.358     -42.525\n",
       "Inflation rate                         0.3859      5.462      0.071      0.944     -10.332      11.103\n",
       "% change in index due to Inflation    17.6712      0.231     76.345      0.000      17.217      18.125\n",
       "change in D_E due to inflation     -7.343e-12   1.92e-13    -38.221      0.000   -7.72e-12   -6.97e-12\n",
       "==============================================================================\n",
       "Omnibus:                      575.342   Durbin-Watson:                   1.956\n",
       "Prob(Omnibus):                  0.000   Jarque-Bera (JB):             6847.991\n",
       "Skew:                           1.981   Prob(JB):                         0.00\n",
       "Kurtosis:                      14.197   Cond. No.                     6.20e+15\n",
       "==============================================================================\n",
       "\n",
       "Warnings:\n",
       "[1] Standard Errors assume that the covariance matrix of the errors is correctly specified.\n",
       "[2] The smallest eigenvalue is 2.08e-25. This might indicate that there are\n",
       "strong multicollinearity problems or that the design matrix is singular.\n",
       "\"\"\""
      ]
     },
     "execution_count": 473,
     "metadata": {},
     "output_type": "execute_result"
    }
   ],
   "source": [
    "bm= sm.OLS(y_train, x_const).fit()\n",
    "bm.summary()"
   ]
  },
  {
   "cell_type": "markdown",
   "metadata": {},
   "source": [
    "Not normally distributed as per jarque bera"
   ]
  },
  {
   "cell_type": "code",
   "execution_count": 474,
   "metadata": {},
   "outputs": [
    {
     "data": {
      "text/html": [
       "<div>\n",
       "<style scoped>\n",
       "    .dataframe tbody tr th:only-of-type {\n",
       "        vertical-align: middle;\n",
       "    }\n",
       "\n",
       "    .dataframe tbody tr th {\n",
       "        vertical-align: top;\n",
       "    }\n",
       "\n",
       "    .dataframe thead th {\n",
       "        text-align: right;\n",
       "    }\n",
       "</style>\n",
       "<table border=\"1\" class=\"dataframe\">\n",
       "  <thead>\n",
       "    <tr style=\"text-align: right;\">\n",
       "      <th></th>\n",
       "      <th>Model</th>\n",
       "      <th>R-Squared</th>\n",
       "      <th>MSE</th>\n",
       "      <th>RMSE</th>\n",
       "    </tr>\n",
       "  </thead>\n",
       "  <tbody>\n",
       "    <tr>\n",
       "      <td>0</td>\n",
       "      <td>Linear regression base model</td>\n",
       "      <td>0.903147</td>\n",
       "      <td>35577.534732</td>\n",
       "      <td>188.62008</td>\n",
       "    </tr>\n",
       "  </tbody>\n",
       "</table>\n",
       "</div>"
      ],
      "text/plain": [
       "                          Model  R-Squared           MSE       RMSE\n",
       "0  Linear regression base model   0.903147  35577.534732  188.62008"
      ]
     },
     "execution_count": 474,
     "metadata": {},
     "output_type": "execute_result"
    }
   ],
   "source": [
    "from sklearn.metrics import mean_squared_error \n",
    "from sklearn.metrics import r2_score\n",
    "\n",
    "lr = LinearRegression()\n",
    "lr = lr.fit(x_train,y_train)\n",
    "\n",
    "y_pred = lr.predict(x_test)\n",
    "mse = mean_squared_error(y_test,y_pred)\n",
    "\n",
    "rmse = np.sqrt(mse)\n",
    "\n",
    "rsquared = r2_score(y_test,y_pred)\n",
    "\n",
    "cols = ['Model', 'R-Squared','MSE','RMSE']\n",
    "\n",
    "result_tabulation = pd.DataFrame(columns = cols)\n",
    "\n",
    "metrics = pd.Series({'Model': \"Linear regression base model\",'R-Squared': rsquared,'MSE':mse,'RMSE':rmse,})\n",
    "\n",
    "result_tabulation = result_tabulation.append(metrics, ignore_index = True)\n",
    "\n",
    "result_tabulation"
   ]
  },
  {
   "cell_type": "code",
   "execution_count": 475,
   "metadata": {},
   "outputs": [],
   "source": [
    "resid=bm.resid"
   ]
  },
  {
   "cell_type": "code",
   "execution_count": 479,
   "metadata": {},
   "outputs": [],
   "source": [
    "y_pred=bm.predict(x_const)"
   ]
  },
  {
   "cell_type": "code",
   "execution_count": 480,
   "metadata": {},
   "outputs": [
    {
     "data": {
      "image/png": "[encoded data removed]",
      "text/plain": [
       "<Figure size 432x288 with 1 Axes>"
      ]
     },
     "metadata": {
      "needs_background": "light"
     },
     "output_type": "display_data"
    }
   ],
   "source": [
    "acf=smt.graphics.plot_acf(resid,lags=40,alpha=0.05)\n",
    "acf.show()"
   ]
  },
  {
   "cell_type": "markdown",
   "metadata": {},
   "source": [
    "No autocorrelation"
   ]
  },
  {
   "cell_type": "code",
   "execution_count": 481,
   "metadata": {},
   "outputs": [
    {
     "data": {
      "text/plain": [
       "<matplotlib.axes._subplots.AxesSubplot at 0x1c34bdc990>"
      ]
     },
     "execution_count": 481,
     "metadata": {},
     "output_type": "execute_result"
    },
    {
     "data": {
      "image/png": "[encoded data removed]",
      "text/plain": [
       "<Figure size 432x288 with 1 Axes>"
      ]
     },
     "metadata": {
      "needs_background": "light"
     },
     "output_type": "display_data"
    }
   ],
   "source": [
    "sns.residplot(y_pred,resid,lowess=True,color='r')"
   ]
  },
  {
   "cell_type": "code",
   "execution_count": 482,
   "metadata": {},
   "outputs": [
    {
     "data": {
      "text/plain": [
       "(1.4143759142478933, 1.5980280736834796e-05)"
      ]
     },
     "execution_count": 482,
     "metadata": {},
     "output_type": "execute_result"
    }
   ],
   "source": [
    "sm.stats.diagnostic.linear_rainbow(res=bm,frac=0.5)"
   ]
  },
  {
   "cell_type": "code",
   "execution_count": 483,
   "metadata": {},
   "outputs": [
    {
     "data": {
      "image/png": "[encoded data removed]",
      "text/plain": [
       "<Figure size 432x288 with 1 Axes>"
      ]
     },
     "metadata": {
      "needs_background": "light"
     },
     "output_type": "display_data"
    }
   ],
   "source": [
    "import scipy.stats as stats\n",
    "import pylab\n",
    "from statsmodels.graphics.gofplots import ProbPlot\n",
    "st_residual = bm.get_influence().resid_studentized_internal\n",
    "stats.probplot(st_residual, dist=\"norm\", plot = pylab)\n",
    "plt.show()"
   ]
  },
  {
   "cell_type": "markdown",
   "metadata": {},
   "source": [
    "Residuals are Not linear"
   ]
  },
  {
   "cell_type": "code",
   "execution_count": 484,
   "metadata": {},
   "outputs": [
    {
     "data": {
      "text/plain": [
       "<matplotlib.axes._subplots.AxesSubplot at 0x1c3d5d2390>"
      ]
     },
     "execution_count": 484,
     "metadata": {},
     "output_type": "execute_result"
    },
    {
     "data": {
      "image/png": "[encoded data removed]",
      "text/plain": [
       "<Figure size 432x288 with 1 Axes>"
      ]
     },
     "metadata": {
      "needs_background": "light"
     },
     "output_type": "display_data"
    }
   ],
   "source": [
    "sns.distplot(resid)"
   ]
  },
  {
   "cell_type": "markdown",
   "metadata": {},
   "source": [
    "The residuals are not normally distributed."
   ]
  },
  {
   "cell_type": "code",
   "execution_count": 485,
   "metadata": {},
   "outputs": [
    {
     "data": {
      "text/html": [
       "<div>\n",
       "<style scoped>\n",
       "    .dataframe tbody tr th:only-of-type {\n",
       "        vertical-align: middle;\n",
       "    }\n",
       "\n",
       "    .dataframe tbody tr th {\n",
       "        vertical-align: top;\n",
       "    }\n",
       "\n",
       "    .dataframe thead th {\n",
       "        text-align: right;\n",
       "    }\n",
       "</style>\n",
       "<table border=\"1\" class=\"dataframe\">\n",
       "  <thead>\n",
       "    <tr style=\"text-align: right;\">\n",
       "      <th></th>\n",
       "      <th>Long Interest Rate</th>\n",
       "      <th>Cyclically Adjusted PE Ratio</th>\n",
       "      <th>Dividend/Earnings</th>\n",
       "      <th>Inflation rate</th>\n",
       "      <th>% change in index due to Inflation</th>\n",
       "      <th>change in D_E due to inflation</th>\n",
       "    </tr>\n",
       "  </thead>\n",
       "  <tbody>\n",
       "    <tr>\n",
       "      <td>vif</td>\n",
       "      <td>3.53069</td>\n",
       "      <td>3.722377</td>\n",
       "      <td>6.050097</td>\n",
       "      <td>1.076939</td>\n",
       "      <td>5.937685</td>\n",
       "      <td>1.009026</td>\n",
       "    </tr>\n",
       "  </tbody>\n",
       "</table>\n",
       "</div>"
      ],
      "text/plain": [
       "     Long Interest Rate  Cyclically Adjusted PE Ratio  Dividend/Earnings  \\\n",
       "vif             3.53069                      3.722377           6.050097   \n",
       "\n",
       "     Inflation rate  % change in index due to Inflation  \\\n",
       "vif        1.076939                            5.937685   \n",
       "\n",
       "     change in D_E due to inflation  \n",
       "vif                        1.009026  "
      ]
     },
     "execution_count": 485,
     "metadata": {},
     "output_type": "execute_result"
    }
   ],
   "source": [
    "from statsmodels.stats.outliers_influence import variance_inflation_factor\n",
    "\n",
    "vif = [variance_inflation_factor(x.values, i) for i in range(x.shape[1])]\n",
    "pd.DataFrame({'vif': vif[0:]}, index=x.columns).T"
   ]
  },
  {
   "cell_type": "markdown",
   "metadata": {},
   "source": [
    "#### multi collinearity is handled "
   ]
  },
  {
   "cell_type": "code",
   "execution_count": 486,
   "metadata": {},
   "outputs": [
    {
     "data": {
      "text/plain": [
       "[('F statistic', 0.9371048650443622), ('p-value', 0.7821341253088382)]"
      ]
     },
     "execution_count": 486,
     "metadata": {},
     "output_type": "execute_result"
    }
   ],
   "source": [
    "from statsmodels.compat import lzip\n",
    "name = ['F statistic', 'p-value']\n",
    "test = sms.het_goldfeldquandt(resid, bm.model.exog)\n",
    "lzip(name, test)"
   ]
  },
  {
   "cell_type": "markdown",
   "metadata": {},
   "source": [
    "The residuals are Homoskedastic"
   ]
  },
  {
   "cell_type": "code",
   "execution_count": 487,
   "metadata": {},
   "outputs": [],
   "source": [
    "from sklearn.preprocessing import PolynomialFeatures "
   ]
  },
  {
   "cell_type": "code",
   "execution_count": 488,
   "metadata": {},
   "outputs": [],
   "source": [
    "poly = PolynomialFeatures(degree = 3) \n",
    "X_poly = poly.fit_transform(x)"
   ]
  },
  {
   "cell_type": "code",
   "execution_count": 489,
   "metadata": {},
   "outputs": [
    {
     "data": {
      "text/plain": [
       "Long Interest Rate                    0\n",
       "Cyclically Adjusted PE Ratio          0\n",
       "Dividend/Earnings                     0\n",
       "Inflation rate                        0\n",
       "% change in index due to Inflation    0\n",
       "change in D_E due to inflation        0\n",
       "dtype: int64"
      ]
     },
     "execution_count": 489,
     "metadata": {},
     "output_type": "execute_result"
    }
   ],
   "source": [
    "x.isna().sum()"
   ]
  },
  {
   "cell_type": "code",
   "execution_count": 490,
   "metadata": {},
   "outputs": [],
   "source": [
    "x_train,x_test,y_train,y_test=train_test_split(X_poly,y,test_size=0.30,random_state=2)"
   ]
  },
  {
   "cell_type": "code",
   "execution_count": 491,
   "metadata": {},
   "outputs": [
    {
     "data": {
      "text/plain": [
       "array([[ 1.00000000e+00,  3.89333333e+00,  8.88832736e+00, ...,\n",
       "         1.93333010e-10, -4.60058803e-26,  1.09476443e-41],\n",
       "       [ 1.00000000e+00,  7.80000000e+00,  1.38886886e+01, ...,\n",
       "         4.24555535e-11, -9.52290786e-27,  2.13601677e-42],\n",
       "       [ 1.00000000e+00,  3.98250000e+00,  1.47214885e+01, ...,\n",
       "        -2.86510995e-10, -9.12863085e-26, -2.90850622e-41],\n",
       "       ...,\n",
       "       [ 1.00000000e+00,  4.30500000e+00,  6.46130587e+00, ...,\n",
       "         3.29488506e-11, -1.33123232e-27,  5.37857762e-44],\n",
       "       [ 1.00000000e+00,  3.87666667e+00,  9.31063968e+00, ...,\n",
       "        -1.77718141e-10, -3.89231482e-26, -8.52479921e-42],\n",
       "       [ 1.00000000e+00,  1.01800000e+01,  8.10422581e+00, ...,\n",
       "         3.09729541e-11, -3.02575344e-27,  2.95586395e-43]])"
      ]
     },
     "execution_count": 491,
     "metadata": {},
     "output_type": "execute_result"
    }
   ],
   "source": [
    "x_train"
   ]
  },
  {
   "cell_type": "code",
   "execution_count": 492,
   "metadata": {
    "scrolled": false
   },
   "outputs": [
    {
     "name": "stdout",
     "output_type": "stream",
     "text": [
      "R^2 score for train: 0.9989582784218747\n",
      "R^2 score for test: 0.9985646862225706\n"
     ]
    }
   ],
   "source": [
    "lr = LinearRegression()\n",
    "lr = lr.fit(x_train,y_train)\n",
    "print(f'R^2 score for train: {lr.score(x_train, y_train)}')\n",
    "print(f'R^2 score for test: {lr.score(x_test, y_test)}')"
   ]
  },
  {
   "cell_type": "code",
   "execution_count": 493,
   "metadata": {},
   "outputs": [],
   "source": [
    "x_const=sm.add_constant(x_train)"
   ]
  },
  {
   "cell_type": "code",
   "execution_count": 494,
   "metadata": {
    "scrolled": false
   },
   "outputs": [
    {
     "data": {
      "text/html": [
       "<table class=\"simpletable\">\n",
       "<caption>OLS Regression Results</caption>\n",
       "<tr>\n",
       "  <th>Dep. Variable:</th>      <td>S&P Composite</td>  <th>  R-squared:         </th> <td>   0.999</td> \n",
       "</tr>\n",
       "<tr>\n",
       "  <th>Model:</th>                   <td>OLS</td>       <th>  Adj. R-squared:    </th> <td>   0.999</td> \n",
       "</tr>\n",
       "<tr>\n",
       "  <th>Method:</th>             <td>Least Squares</td>  <th>  F-statistic:       </th> <td>1.935e+04</td>\n",
       "</tr>\n",
       "<tr>\n",
       "  <th>Date:</th>             <td>Thu, 23 Jan 2020</td> <th>  Prob (F-statistic):</th>  <td>  0.00</td>  \n",
       "</tr>\n",
       "<tr>\n",
       "  <th>Time:</th>                 <td>15:51:59</td>     <th>  Log-Likelihood:    </th> <td> -5052.1</td> \n",
       "</tr>\n",
       "<tr>\n",
       "  <th>No. Observations:</th>      <td>  1165</td>      <th>  AIC:               </th> <td>1.022e+04</td>\n",
       "</tr>\n",
       "<tr>\n",
       "  <th>Df Residuals:</th>          <td>  1109</td>      <th>  BIC:               </th> <td>1.050e+04</td>\n",
       "</tr>\n",
       "<tr>\n",
       "  <th>Df Model:</th>              <td>    55</td>      <th>                     </th>     <td> </td>    \n",
       "</tr>\n",
       "<tr>\n",
       "  <th>Covariance Type:</th>      <td>nonrobust</td>    <th>                     </th>     <td> </td>    \n",
       "</tr>\n",
       "</table>\n",
       "<table class=\"simpletable\">\n",
       "<tr>\n",
       "    <td></td>       <th>coef</th>     <th>std err</th>      <th>t</th>      <th>P>|t|</th>  <th>[0.025</th>    <th>0.975]</th>  \n",
       "</tr>\n",
       "<tr>\n",
       "  <th>const</th> <td>-3133.4650</td> <td>  221.153</td> <td>  -14.169</td> <td> 0.000</td> <td>-3567.390</td> <td>-2699.540</td>\n",
       "</tr>\n",
       "<tr>\n",
       "  <th>x1</th>    <td>  262.2840</td> <td>   43.916</td> <td>    5.972</td> <td> 0.000</td> <td>  176.117</td> <td>  348.451</td>\n",
       "</tr>\n",
       "<tr>\n",
       "  <th>x2</th>    <td>  266.3938</td> <td>   16.551</td> <td>   16.095</td> <td> 0.000</td> <td>  233.919</td> <td>  298.869</td>\n",
       "</tr>\n",
       "<tr>\n",
       "  <th>x3</th>    <td> 3771.6758</td> <td>  403.244</td> <td>    9.353</td> <td> 0.000</td> <td> 2980.469</td> <td> 4562.883</td>\n",
       "</tr>\n",
       "<tr>\n",
       "  <th>x4</th>    <td> -115.5679</td> <td>   80.715</td> <td>   -1.432</td> <td> 0.152</td> <td> -273.940</td> <td>   42.804</td>\n",
       "</tr>\n",
       "<tr>\n",
       "  <th>x5</th>    <td>  -18.7610</td> <td>    3.993</td> <td>   -4.698</td> <td> 0.000</td> <td>  -26.597</td> <td>  -10.925</td>\n",
       "</tr>\n",
       "<tr>\n",
       "  <th>x6</th>    <td> 1.268e-06</td> <td> 1.42e-07</td> <td>    8.934</td> <td> 0.000</td> <td> 9.89e-07</td> <td> 1.55e-06</td>\n",
       "</tr>\n",
       "<tr>\n",
       "  <th>x7</th>    <td>   -2.8538</td> <td>    3.235</td> <td>   -0.882</td> <td> 0.378</td> <td>   -9.201</td> <td>    3.493</td>\n",
       "</tr>\n",
       "<tr>\n",
       "  <th>x8</th>    <td>  -12.0892</td> <td>    2.016</td> <td>   -5.996</td> <td> 0.000</td> <td>  -16.045</td> <td>   -8.133</td>\n",
       "</tr>\n",
       "<tr>\n",
       "  <th>x9</th>    <td> -247.9788</td> <td>   61.160</td> <td>   -4.055</td> <td> 0.000</td> <td> -367.981</td> <td> -127.976</td>\n",
       "</tr>\n",
       "<tr>\n",
       "  <th>x10</th>   <td>   17.8880</td> <td>   11.073</td> <td>    1.615</td> <td> 0.107</td> <td>   -3.839</td> <td>   39.615</td>\n",
       "</tr>\n",
       "<tr>\n",
       "  <th>x11</th>   <td>    1.4180</td> <td>    0.432</td> <td>    3.286</td> <td> 0.001</td> <td>    0.571</td> <td>    2.265</td>\n",
       "</tr>\n",
       "<tr>\n",
       "  <th>x12</th>   <td>  1.52e-07</td> <td> 1.72e-08</td> <td>    8.817</td> <td> 0.000</td> <td> 1.18e-07</td> <td> 1.86e-07</td>\n",
       "</tr>\n",
       "<tr>\n",
       "  <th>x13</th>   <td>   -2.5647</td> <td>    0.376</td> <td>   -6.813</td> <td> 0.000</td> <td>   -3.303</td> <td>   -1.826</td>\n",
       "</tr>\n",
       "<tr>\n",
       "  <th>x14</th>   <td> -118.6514</td> <td>   20.394</td> <td>   -5.818</td> <td> 0.000</td> <td> -158.666</td> <td>  -78.637</td>\n",
       "</tr>\n",
       "<tr>\n",
       "  <th>x15</th>   <td>   -0.3717</td> <td>    3.720</td> <td>   -0.100</td> <td> 0.920</td> <td>   -7.670</td> <td>    6.927</td>\n",
       "</tr>\n",
       "<tr>\n",
       "  <th>x16</th>   <td>    3.4273</td> <td>    0.152</td> <td>   22.544</td> <td> 0.000</td> <td>    3.129</td> <td>    3.726</td>\n",
       "</tr>\n",
       "<tr>\n",
       "  <th>x17</th>   <td>-3.171e-08</td> <td> 3.45e-09</td> <td>   -9.194</td> <td> 0.000</td> <td>-3.85e-08</td> <td>-2.49e-08</td>\n",
       "</tr>\n",
       "<tr>\n",
       "  <th>x18</th>   <td>-1095.7836</td> <td>  127.635</td> <td>   -8.585</td> <td> 0.000</td> <td>-1346.218</td> <td> -845.349</td>\n",
       "</tr>\n",
       "<tr>\n",
       "  <th>x19</th>   <td>  129.4751</td> <td>   48.350</td> <td>    2.678</td> <td> 0.008</td> <td>   34.607</td> <td>  224.344</td>\n",
       "</tr>\n",
       "<tr>\n",
       "  <th>x20</th>   <td>   32.5356</td> <td>    4.216</td> <td>    7.717</td> <td> 0.000</td> <td>   24.264</td> <td>   40.808</td>\n",
       "</tr>\n",
       "<tr>\n",
       "  <th>x21</th>   <td>-7.166e-09</td> <td> 8.16e-10</td> <td>   -8.787</td> <td> 0.000</td> <td>-8.77e-09</td> <td>-5.57e-09</td>\n",
       "</tr>\n",
       "<tr>\n",
       "  <th>x22</th>   <td>   15.3691</td> <td>    9.614</td> <td>    1.599</td> <td> 0.110</td> <td>   -3.494</td> <td>   34.232</td>\n",
       "</tr>\n",
       "<tr>\n",
       "  <th>x23</th>   <td>   -0.3104</td> <td>    1.171</td> <td>   -0.265</td> <td> 0.791</td> <td>   -2.608</td> <td>    1.987</td>\n",
       "</tr>\n",
       "<tr>\n",
       "  <th>x24</th>   <td>-5.627e-09</td> <td> 6.48e-10</td> <td>   -8.681</td> <td> 0.000</td> <td> -6.9e-09</td> <td>-4.36e-09</td>\n",
       "</tr>\n",
       "<tr>\n",
       "  <th>x25</th>   <td>    0.2773</td> <td>    0.040</td> <td>    6.925</td> <td> 0.000</td> <td>    0.199</td> <td>    0.356</td>\n",
       "</tr>\n",
       "<tr>\n",
       "  <th>x26</th>   <td> 9.257e-08</td> <td> 9.69e-09</td> <td>    9.550</td> <td> 0.000</td> <td> 7.36e-08</td> <td> 1.12e-07</td>\n",
       "</tr>\n",
       "<tr>\n",
       "  <th>x27</th>   <td> 1.062e-09</td> <td> 1.26e-10</td> <td>    8.448</td> <td> 0.000</td> <td> 8.16e-10</td> <td> 1.31e-09</td>\n",
       "</tr>\n",
       "<tr>\n",
       "  <th>x28</th>   <td>   -0.0621</td> <td>    0.067</td> <td>   -0.926</td> <td> 0.355</td> <td>   -0.194</td> <td>    0.070</td>\n",
       "</tr>\n",
       "<tr>\n",
       "  <th>x29</th>   <td>    0.1072</td> <td>    0.068</td> <td>    1.577</td> <td> 0.115</td> <td>   -0.026</td> <td>    0.241</td>\n",
       "</tr>\n",
       "<tr>\n",
       "  <th>x30</th>   <td>    2.5944</td> <td>    2.269</td> <td>    1.143</td> <td> 0.253</td> <td>   -1.858</td> <td>    7.047</td>\n",
       "</tr>\n",
       "<tr>\n",
       "  <th>x31</th>   <td>   -0.2717</td> <td>    0.319</td> <td>   -0.853</td> <td> 0.394</td> <td>   -0.897</td> <td>    0.354</td>\n",
       "</tr>\n",
       "<tr>\n",
       "  <th>x32</th>   <td>    0.0024</td> <td>    0.017</td> <td>    0.139</td> <td> 0.889</td> <td>   -0.032</td> <td>    0.036</td>\n",
       "</tr>\n",
       "<tr>\n",
       "  <th>x33</th>   <td>-1.826e-08</td> <td> 2.01e-09</td> <td>   -9.105</td> <td> 0.000</td> <td>-2.22e-08</td> <td>-1.43e-08</td>\n",
       "</tr>\n",
       "<tr>\n",
       "  <th>x34</th>   <td>    0.0720</td> <td>    0.022</td> <td>    3.221</td> <td> 0.001</td> <td>    0.028</td> <td>    0.116</td>\n",
       "</tr>\n",
       "<tr>\n",
       "  <th>x35</th>   <td>    3.8972</td> <td>    1.344</td> <td>    2.900</td> <td> 0.004</td> <td>    1.261</td> <td>    6.534</td>\n",
       "</tr>\n",
       "<tr>\n",
       "  <th>x36</th>   <td>   -0.0478</td> <td>    0.275</td> <td>   -0.174</td> <td> 0.862</td> <td>   -0.587</td> <td>    0.491</td>\n",
       "</tr>\n",
       "<tr>\n",
       "  <th>x37</th>   <td>   -0.0802</td> <td>    0.010</td> <td>   -8.071</td> <td> 0.000</td> <td>   -0.100</td> <td>   -0.061</td>\n",
       "</tr>\n",
       "<tr>\n",
       "  <th>x38</th>   <td>-1.251e-07</td> <td> 1.38e-08</td> <td>   -9.091</td> <td> 0.000</td> <td>-1.52e-07</td> <td>-9.81e-08</td>\n",
       "</tr>\n",
       "<tr>\n",
       "  <th>x39</th>   <td>   44.7036</td> <td>   10.489</td> <td>    4.262</td> <td> 0.000</td> <td>   24.123</td> <td>   65.285</td>\n",
       "</tr>\n",
       "<tr>\n",
       "  <th>x40</th>   <td>   -2.9830</td> <td>    7.249</td> <td>   -0.411</td> <td> 0.681</td> <td>  -17.206</td> <td>   11.241</td>\n",
       "</tr>\n",
       "<tr>\n",
       "  <th>x41</th>   <td>   -1.2418</td> <td>    0.316</td> <td>   -3.928</td> <td> 0.000</td> <td>   -1.862</td> <td>   -0.621</td>\n",
       "</tr>\n",
       "<tr>\n",
       "  <th>x42</th>   <td> 5.614e-09</td> <td> 6.18e-10</td> <td>    9.079</td> <td> 0.000</td> <td>  4.4e-09</td> <td> 6.83e-09</td>\n",
       "</tr>\n",
       "<tr>\n",
       "  <th>x43</th>   <td>   -0.6256</td> <td>    0.845</td> <td>   -0.740</td> <td> 0.459</td> <td>   -2.284</td> <td>    1.033</td>\n",
       "</tr>\n",
       "<tr>\n",
       "  <th>x44</th>   <td>    0.1417</td> <td>    0.074</td> <td>    1.919</td> <td> 0.055</td> <td>   -0.003</td> <td>    0.287</td>\n",
       "</tr>\n",
       "<tr>\n",
       "  <th>x45</th>   <td>-6.275e-09</td> <td> 7.43e-10</td> <td>   -8.448</td> <td> 0.000</td> <td>-7.73e-09</td> <td>-4.82e-09</td>\n",
       "</tr>\n",
       "<tr>\n",
       "  <th>x46</th>   <td>   -0.0046</td> <td>    0.003</td> <td>   -1.567</td> <td> 0.117</td> <td>   -0.010</td> <td>    0.001</td>\n",
       "</tr>\n",
       "<tr>\n",
       "  <th>x47</th>   <td> 3.276e-07</td> <td> 3.46e-08</td> <td>    9.470</td> <td> 0.000</td> <td>  2.6e-07</td> <td> 3.96e-07</td>\n",
       "</tr>\n",
       "<tr>\n",
       "  <th>x48</th>   <td> 9.474e-11</td> <td> 1.04e-11</td> <td>    9.073</td> <td> 0.000</td> <td> 7.43e-11</td> <td> 1.15e-10</td>\n",
       "</tr>\n",
       "<tr>\n",
       "  <th>x49</th>   <td>    0.0134</td> <td>    0.003</td> <td>    4.893</td> <td> 0.000</td> <td>    0.008</td> <td>    0.019</td>\n",
       "</tr>\n",
       "<tr>\n",
       "  <th>x50</th>   <td>    0.4220</td> <td>    0.259</td> <td>    1.631</td> <td> 0.103</td> <td>   -0.086</td> <td>    0.930</td>\n",
       "</tr>\n",
       "<tr>\n",
       "  <th>x51</th>   <td>    0.0182</td> <td>    0.035</td> <td>    0.512</td> <td> 0.609</td> <td>   -0.051</td> <td>    0.088</td>\n",
       "</tr>\n",
       "<tr>\n",
       "  <th>x52</th>   <td>   -0.0139</td> <td>    0.002</td> <td>   -7.462</td> <td> 0.000</td> <td>   -0.018</td> <td>   -0.010</td>\n",
       "</tr>\n",
       "<tr>\n",
       "  <th>x53</th>   <td>-7.459e-07</td> <td> 8.22e-08</td> <td>   -9.073</td> <td> 0.000</td> <td>-9.07e-07</td> <td>-5.85e-07</td>\n",
       "</tr>\n",
       "<tr>\n",
       "  <th>x54</th>   <td>   15.7498</td> <td>    3.933</td> <td>    4.005</td> <td> 0.000</td> <td>    8.034</td> <td>   23.466</td>\n",
       "</tr>\n",
       "<tr>\n",
       "  <th>x55</th>   <td>    0.3296</td> <td>    1.271</td> <td>    0.259</td> <td> 0.795</td> <td>   -2.164</td> <td>    2.824</td>\n",
       "</tr>\n",
       "<tr>\n",
       "  <th>x56</th>   <td>   -0.7199</td> <td>    0.097</td> <td>   -7.394</td> <td> 0.000</td> <td>   -0.911</td> <td>   -0.529</td>\n",
       "</tr>\n",
       "<tr>\n",
       "  <th>x57</th>   <td> 1.425e-08</td> <td> 1.54e-09</td> <td>    9.260</td> <td> 0.000</td> <td> 1.12e-08</td> <td> 1.73e-08</td>\n",
       "</tr>\n",
       "<tr>\n",
       "  <th>x58</th>   <td>   -0.0754</td> <td>    0.097</td> <td>   -0.780</td> <td> 0.435</td> <td>   -0.265</td> <td>    0.114</td>\n",
       "</tr>\n",
       "<tr>\n",
       "  <th>x59</th>   <td>    0.0024</td> <td>    0.022</td> <td>    0.111</td> <td> 0.912</td> <td>   -0.040</td> <td>    0.045</td>\n",
       "</tr>\n",
       "<tr>\n",
       "  <th>x60</th>   <td>-3.031e-08</td> <td> 3.58e-09</td> <td>   -8.461</td> <td> 0.000</td> <td>-3.73e-08</td> <td>-2.33e-08</td>\n",
       "</tr>\n",
       "<tr>\n",
       "  <th>x61</th>   <td>    0.0115</td> <td>    0.001</td> <td>   15.764</td> <td> 0.000</td> <td>    0.010</td> <td>    0.013</td>\n",
       "</tr>\n",
       "<tr>\n",
       "  <th>x62</th>   <td> 3.012e-06</td> <td> 3.29e-07</td> <td>    9.151</td> <td> 0.000</td> <td> 2.37e-06</td> <td> 3.66e-06</td>\n",
       "</tr>\n",
       "<tr>\n",
       "  <th>x63</th>   <td>-1.766e-22</td> <td> 2.69e-23</td> <td>   -6.567</td> <td> 0.000</td> <td>-2.29e-22</td> <td>-1.24e-22</td>\n",
       "</tr>\n",
       "<tr>\n",
       "  <th>x64</th>   <td>   92.7709</td> <td>    9.947</td> <td>    9.326</td> <td> 0.000</td> <td>   73.254</td> <td>  112.288</td>\n",
       "</tr>\n",
       "<tr>\n",
       "  <th>x65</th>   <td>  -21.2838</td> <td>   11.330</td> <td>   -1.878</td> <td> 0.061</td> <td>  -43.515</td> <td>    0.948</td>\n",
       "</tr>\n",
       "<tr>\n",
       "  <th>x66</th>   <td>   -5.3377</td> <td>    0.601</td> <td>   -8.883</td> <td> 0.000</td> <td>   -6.517</td> <td>   -4.159</td>\n",
       "</tr>\n",
       "<tr>\n",
       "  <th>x67</th>   <td> 7.523e-09</td> <td> 7.99e-10</td> <td>    9.415</td> <td> 0.000</td> <td> 5.96e-09</td> <td> 9.09e-09</td>\n",
       "</tr>\n",
       "<tr>\n",
       "  <th>x68</th>   <td>   -0.6687</td> <td>    1.610</td> <td>   -0.415</td> <td> 0.678</td> <td>   -3.827</td> <td>    2.490</td>\n",
       "</tr>\n",
       "<tr>\n",
       "  <th>x69</th>   <td>    0.9365</td> <td>    0.249</td> <td>    3.761</td> <td> 0.000</td> <td>    0.448</td> <td>    1.425</td>\n",
       "</tr>\n",
       "<tr>\n",
       "  <th>x70</th>   <td>-8.753e-10</td> <td>  1.2e-10</td> <td>   -7.300</td> <td> 0.000</td> <td>-1.11e-09</td> <td> -6.4e-10</td>\n",
       "</tr>\n",
       "<tr>\n",
       "  <th>x71</th>   <td>    0.0351</td> <td>    0.027</td> <td>    1.282</td> <td> 0.200</td> <td>   -0.019</td> <td>    0.089</td>\n",
       "</tr>\n",
       "<tr>\n",
       "  <th>x72</th>   <td>-2.109e-08</td> <td> 4.13e-09</td> <td>   -5.106</td> <td> 0.000</td> <td>-2.92e-08</td> <td> -1.3e-08</td>\n",
       "</tr>\n",
       "<tr>\n",
       "  <th>x73</th>   <td> 9.909e-23</td> <td> 1.02e-23</td> <td>    9.673</td> <td> 0.000</td> <td>  7.9e-23</td> <td> 1.19e-22</td>\n",
       "</tr>\n",
       "<tr>\n",
       "  <th>x74</th>   <td>   -0.0214</td> <td>    0.051</td> <td>   -0.419</td> <td> 0.675</td> <td>   -0.122</td> <td>    0.079</td>\n",
       "</tr>\n",
       "<tr>\n",
       "  <th>x75</th>   <td>    0.1172</td> <td>    0.087</td> <td>    1.354</td> <td> 0.176</td> <td>   -0.053</td> <td>    0.287</td>\n",
       "</tr>\n",
       "<tr>\n",
       "  <th>x76</th>   <td> -6.21e-09</td> <td>  7.1e-10</td> <td>   -8.752</td> <td> 0.000</td> <td> -7.6e-09</td> <td>-4.82e-09</td>\n",
       "</tr>\n",
       "<tr>\n",
       "  <th>x77</th>   <td>    0.0074</td> <td>    0.007</td> <td>    1.098</td> <td> 0.272</td> <td>   -0.006</td> <td>    0.021</td>\n",
       "</tr>\n",
       "<tr>\n",
       "  <th>x78</th>   <td> 2.227e-07</td> <td> 2.57e-08</td> <td>    8.672</td> <td> 0.000</td> <td> 1.72e-07</td> <td> 2.73e-07</td>\n",
       "</tr>\n",
       "<tr>\n",
       "  <th>x79</th>   <td> 1.712e-23</td> <td> 1.81e-24</td> <td>    9.460</td> <td> 0.000</td> <td> 1.36e-23</td> <td> 2.07e-23</td>\n",
       "</tr>\n",
       "<tr>\n",
       "  <th>x80</th>   <td>    0.0020</td> <td>    0.000</td> <td>   14.192</td> <td> 0.000</td> <td>    0.002</td> <td>    0.002</td>\n",
       "</tr>\n",
       "<tr>\n",
       "  <th>x81</th>   <td>-8.628e-06</td> <td> 9.03e-07</td> <td>   -9.556</td> <td> 0.000</td> <td>-1.04e-05</td> <td>-6.86e-06</td>\n",
       "</tr>\n",
       "<tr>\n",
       "  <th>x82</th>   <td> 2.363e-21</td> <td> 2.51e-22</td> <td>    9.414</td> <td> 0.000</td> <td> 1.87e-21</td> <td> 2.86e-21</td>\n",
       "</tr>\n",
       "<tr>\n",
       "  <th>x83</th>   <td> 1.867e-36</td> <td> 2.35e-37</td> <td>    7.928</td> <td> 0.000</td> <td>  1.4e-36</td> <td> 2.33e-36</td>\n",
       "</tr>\n",
       "</table>\n",
       "<table class=\"simpletable\">\n",
       "<tr>\n",
       "  <th>Omnibus:</th>       <td>286.980</td> <th>  Durbin-Watson:     </th> <td>   2.027</td>\n",
       "</tr>\n",
       "<tr>\n",
       "  <th>Prob(Omnibus):</th> <td> 0.000</td>  <th>  Jarque-Bera (JB):  </th> <td>8804.709</td>\n",
       "</tr>\n",
       "<tr>\n",
       "  <th>Skew:</th>          <td>-0.445</td>  <th>  Prob(JB):          </th> <td>    0.00</td>\n",
       "</tr>\n",
       "<tr>\n",
       "  <th>Kurtosis:</th>      <td>16.438</td>  <th>  Cond. No.          </th> <td>1.15e+16</td>\n",
       "</tr>\n",
       "</table><br/><br/>Warnings:<br/>[1] Standard Errors assume that the covariance matrix of the errors is correctly specified.<br/>[2] The smallest eigenvalue is 4.28e-18. This might indicate that there are<br/>strong multicollinearity problems or that the design matrix is singular."
      ],
      "text/plain": [
       "<class 'statsmodels.iolib.summary.Summary'>\n",
       "\"\"\"\n",
       "                            OLS Regression Results                            \n",
       "==============================================================================\n",
       "Dep. Variable:          S&P Composite   R-squared:                       0.999\n",
       "Model:                            OLS   Adj. R-squared:                  0.999\n",
       "Method:                 Least Squares   F-statistic:                 1.935e+04\n",
       "Date:                Thu, 23 Jan 2020   Prob (F-statistic):               0.00\n",
       "Time:                        15:51:59   Log-Likelihood:                -5052.1\n",
       "No. Observations:                1165   AIC:                         1.022e+04\n",
       "Df Residuals:                    1109   BIC:                         1.050e+04\n",
       "Df Model:                          55                                         \n",
       "Covariance Type:            nonrobust                                         \n",
       "==============================================================================\n",
       "                 coef    std err          t      P>|t|      [0.025      0.975]\n",
       "------------------------------------------------------------------------------\n",
       "const      -3133.4650    221.153    -14.169      0.000   -3567.390   -2699.540\n",
       "x1           262.2840     43.916      5.972      0.000     176.117     348.451\n",
       "x2           266.3938     16.551     16.095      0.000     233.919     298.869\n",
       "x3          3771.6758    403.244      9.353      0.000    2980.469    4562.883\n",
       "x4          -115.5679     80.715     -1.432      0.152    -273.940      42.804\n",
       "x5           -18.7610      3.993     -4.698      0.000     -26.597     -10.925\n",
       "x6          1.268e-06   1.42e-07      8.934      0.000    9.89e-07    1.55e-06\n",
       "x7            -2.8538      3.235     -0.882      0.378      -9.201       3.493\n",
       "x8           -12.0892      2.016     -5.996      0.000     -16.045      -8.133\n",
       "x9          -247.9788     61.160     -4.055      0.000    -367.981    -127.976\n",
       "x10           17.8880     11.073      1.615      0.107      -3.839      39.615\n",
       "x11            1.4180      0.432      3.286      0.001       0.571       2.265\n",
       "x12          1.52e-07   1.72e-08      8.817      0.000    1.18e-07    1.86e-07\n",
       "x13           -2.5647      0.376     -6.813      0.000      -3.303      -1.826\n",
       "x14         -118.6514     20.394     -5.818      0.000    -158.666     -78.637\n",
       "x15           -0.3717      3.720     -0.100      0.920      -7.670       6.927\n",
       "x16            3.4273      0.152     22.544      0.000       3.129       3.726\n",
       "x17        -3.171e-08   3.45e-09     -9.194      0.000   -3.85e-08   -2.49e-08\n",
       "x18        -1095.7836    127.635     -8.585      0.000   -1346.218    -845.349\n",
       "x19          129.4751     48.350      2.678      0.008      34.607     224.344\n",
       "x20           32.5356      4.216      7.717      0.000      24.264      40.808\n",
       "x21        -7.166e-09   8.16e-10     -8.787      0.000   -8.77e-09   -5.57e-09\n",
       "x22           15.3691      9.614      1.599      0.110      -3.494      34.232\n",
       "x23           -0.3104      1.171     -0.265      0.791      -2.608       1.987\n",
       "x24        -5.627e-09   6.48e-10     -8.681      0.000    -6.9e-09   -4.36e-09\n",
       "x25            0.2773      0.040      6.925      0.000       0.199       0.356\n",
       "x26         9.257e-08   9.69e-09      9.550      0.000    7.36e-08    1.12e-07\n",
       "x27         1.062e-09   1.26e-10      8.448      0.000    8.16e-10    1.31e-09\n",
       "x28           -0.0621      0.067     -0.926      0.355      -0.194       0.070\n",
       "x29            0.1072      0.068      1.577      0.115      -0.026       0.241\n",
       "x30            2.5944      2.269      1.143      0.253      -1.858       7.047\n",
       "x31           -0.2717      0.319     -0.853      0.394      -0.897       0.354\n",
       "x32            0.0024      0.017      0.139      0.889      -0.032       0.036\n",
       "x33        -1.826e-08   2.01e-09     -9.105      0.000   -2.22e-08   -1.43e-08\n",
       "x34            0.0720      0.022      3.221      0.001       0.028       0.116\n",
       "x35            3.8972      1.344      2.900      0.004       1.261       6.534\n",
       "x36           -0.0478      0.275     -0.174      0.862      -0.587       0.491\n",
       "x37           -0.0802      0.010     -8.071      0.000      -0.100      -0.061\n",
       "x38        -1.251e-07   1.38e-08     -9.091      0.000   -1.52e-07   -9.81e-08\n",
       "x39           44.7036     10.489      4.262      0.000      24.123      65.285\n",
       "x40           -2.9830      7.249     -0.411      0.681     -17.206      11.241\n",
       "x41           -1.2418      0.316     -3.928      0.000      -1.862      -0.621\n",
       "x42         5.614e-09   6.18e-10      9.079      0.000     4.4e-09    6.83e-09\n",
       "x43           -0.6256      0.845     -0.740      0.459      -2.284       1.033\n",
       "x44            0.1417      0.074      1.919      0.055      -0.003       0.287\n",
       "x45        -6.275e-09   7.43e-10     -8.448      0.000   -7.73e-09   -4.82e-09\n",
       "x46           -0.0046      0.003     -1.567      0.117      -0.010       0.001\n",
       "x47         3.276e-07   3.46e-08      9.470      0.000     2.6e-07    3.96e-07\n",
       "x48         9.474e-11   1.04e-11      9.073      0.000    7.43e-11    1.15e-10\n",
       "x49            0.0134      0.003      4.893      0.000       0.008       0.019\n",
       "x50            0.4220      0.259      1.631      0.103      -0.086       0.930\n",
       "x51            0.0182      0.035      0.512      0.609      -0.051       0.088\n",
       "x52           -0.0139      0.002     -7.462      0.000      -0.018      -0.010\n",
       "x53        -7.459e-07   8.22e-08     -9.073      0.000   -9.07e-07   -5.85e-07\n",
       "x54           15.7498      3.933      4.005      0.000       8.034      23.466\n",
       "x55            0.3296      1.271      0.259      0.795      -2.164       2.824\n",
       "x56           -0.7199      0.097     -7.394      0.000      -0.911      -0.529\n",
       "x57         1.425e-08   1.54e-09      9.260      0.000    1.12e-08    1.73e-08\n",
       "x58           -0.0754      0.097     -0.780      0.435      -0.265       0.114\n",
       "x59            0.0024      0.022      0.111      0.912      -0.040       0.045\n",
       "x60        -3.031e-08   3.58e-09     -8.461      0.000   -3.73e-08   -2.33e-08\n",
       "x61            0.0115      0.001     15.764      0.000       0.010       0.013\n",
       "x62         3.012e-06   3.29e-07      9.151      0.000    2.37e-06    3.66e-06\n",
       "x63        -1.766e-22   2.69e-23     -6.567      0.000   -2.29e-22   -1.24e-22\n",
       "x64           92.7709      9.947      9.326      0.000      73.254     112.288\n",
       "x65          -21.2838     11.330     -1.878      0.061     -43.515       0.948\n",
       "x66           -5.3377      0.601     -8.883      0.000      -6.517      -4.159\n",
       "x67         7.523e-09   7.99e-10      9.415      0.000    5.96e-09    9.09e-09\n",
       "x68           -0.6687      1.610     -0.415      0.678      -3.827       2.490\n",
       "x69            0.9365      0.249      3.761      0.000       0.448       1.425\n",
       "x70        -8.753e-10    1.2e-10     -7.300      0.000   -1.11e-09    -6.4e-10\n",
       "x71            0.0351      0.027      1.282      0.200      -0.019       0.089\n",
       "x72        -2.109e-08   4.13e-09     -5.106      0.000   -2.92e-08    -1.3e-08\n",
       "x73         9.909e-23   1.02e-23      9.673      0.000     7.9e-23    1.19e-22\n",
       "x74           -0.0214      0.051     -0.419      0.675      -0.122       0.079\n",
       "x75            0.1172      0.087      1.354      0.176      -0.053       0.287\n",
       "x76         -6.21e-09    7.1e-10     -8.752      0.000    -7.6e-09   -4.82e-09\n",
       "x77            0.0074      0.007      1.098      0.272      -0.006       0.021\n",
       "x78         2.227e-07   2.57e-08      8.672      0.000    1.72e-07    2.73e-07\n",
       "x79         1.712e-23   1.81e-24      9.460      0.000    1.36e-23    2.07e-23\n",
       "x80            0.0020      0.000     14.192      0.000       0.002       0.002\n",
       "x81        -8.628e-06   9.03e-07     -9.556      0.000   -1.04e-05   -6.86e-06\n",
       "x82         2.363e-21   2.51e-22      9.414      0.000    1.87e-21    2.86e-21\n",
       "x83         1.867e-36   2.35e-37      7.928      0.000     1.4e-36    2.33e-36\n",
       "==============================================================================\n",
       "Omnibus:                      286.980   Durbin-Watson:                   2.027\n",
       "Prob(Omnibus):                  0.000   Jarque-Bera (JB):             8804.709\n",
       "Skew:                          -0.445   Prob(JB):                         0.00\n",
       "Kurtosis:                      16.438   Cond. No.                     1.15e+16\n",
       "==============================================================================\n",
       "\n",
       "Warnings:\n",
       "[1] Standard Errors assume that the covariance matrix of the errors is correctly specified.\n",
       "[2] The smallest eigenvalue is 4.28e-18. This might indicate that there are\n",
       "strong multicollinearity problems or that the design matrix is singular.\n",
       "\"\"\""
      ]
     },
     "execution_count": 494,
     "metadata": {},
     "output_type": "execute_result"
    }
   ],
   "source": [
    "bmz= sm.OLS(y_train, x_const).fit()\n",
    "bmz.summary()"
   ]
  },
  {
   "cell_type": "code",
   "execution_count": 495,
   "metadata": {},
   "outputs": [
    {
     "data": {
      "text/html": [
       "<div>\n",
       "<style scoped>\n",
       "    .dataframe tbody tr th:only-of-type {\n",
       "        vertical-align: middle;\n",
       "    }\n",
       "\n",
       "    .dataframe tbody tr th {\n",
       "        vertical-align: top;\n",
       "    }\n",
       "\n",
       "    .dataframe thead th {\n",
       "        text-align: right;\n",
       "    }\n",
       "</style>\n",
       "<table border=\"1\" class=\"dataframe\">\n",
       "  <thead>\n",
       "    <tr style=\"text-align: right;\">\n",
       "      <th></th>\n",
       "      <th>Model</th>\n",
       "      <th>R-Squared</th>\n",
       "      <th>MSE</th>\n",
       "      <th>RMSE</th>\n",
       "    </tr>\n",
       "  </thead>\n",
       "  <tbody>\n",
       "    <tr>\n",
       "      <td>0</td>\n",
       "      <td>Linear regression model with polynomial features</td>\n",
       "      <td>0.998565</td>\n",
       "      <td>527.241259</td>\n",
       "      <td>22.961735</td>\n",
       "    </tr>\n",
       "  </tbody>\n",
       "</table>\n",
       "</div>"
      ],
      "text/plain": [
       "                                              Model  R-Squared         MSE  \\\n",
       "0  Linear regression model with polynomial features   0.998565  527.241259   \n",
       "\n",
       "        RMSE  \n",
       "0  22.961735  "
      ]
     },
     "execution_count": 495,
     "metadata": {},
     "output_type": "execute_result"
    }
   ],
   "source": [
    "from sklearn.metrics import mean_squared_error \n",
    "from sklearn.metrics import r2_score\n",
    "\n",
    "y_pred = lr.predict(x_test)\n",
    "mse = mean_squared_error(y_test,y_pred)\n",
    "\n",
    "rmse = np.sqrt(mse)\n",
    "\n",
    "rsquared = r2_score(y_test,y_pred)\n",
    "\n",
    "cols = ['Model', 'R-Squared','MSE','RMSE']\n",
    "\n",
    "result_tabulation = pd.DataFrame(columns = cols)\n",
    "\n",
    "metrics = pd.Series({'Model': \"Linear regression model with polynomial features\",'R-Squared': rsquared,'MSE':mse,'RMSE':rmse,})\n",
    "\n",
    "result_tabulation = result_tabulation.append(metrics, ignore_index = True)\n",
    "\n",
    "\n",
    "result_tabulation\n"
   ]
  },
  {
   "cell_type": "code",
   "execution_count": 452,
   "metadata": {},
   "outputs": [],
   "source": [
    "resid=bmz.resid"
   ]
  },
  {
   "cell_type": "code",
   "execution_count": 453,
   "metadata": {},
   "outputs": [],
   "source": [
    "y_pred=bmz.predict(x_const)"
   ]
  },
  {
   "cell_type": "code",
   "execution_count": 454,
   "metadata": {},
   "outputs": [
    {
     "data": {
      "image/png": "[encoded data removed]",
      "text/plain": [
       "<Figure size 432x288 with 1 Axes>"
      ]
     },
     "metadata": {
      "needs_background": "light"
     },
     "output_type": "display_data"
    }
   ],
   "source": [
    "acf=smt.graphics.plot_acf(resid,lags=40,alpha=0.05)\n",
    "acf.show()"
   ]
  },
  {
   "cell_type": "code",
   "execution_count": 455,
   "metadata": {},
   "outputs": [
    {
     "data": {
      "text/plain": [
       "<matplotlib.axes._subplots.AxesSubplot at 0x1c3debda50>"
      ]
     },
     "execution_count": 455,
     "metadata": {},
     "output_type": "execute_result"
    },
    {
     "data": {
      "image/png": "[encoded data removed]",
      "text/plain": [
       "<Figure size 432x288 with 1 Axes>"
      ]
     },
     "metadata": {
      "needs_background": "light"
     },
     "output_type": "display_data"
    }
   ],
   "source": [
    "sns.residplot(y_pred,resid,lowess=True,color='r')"
   ]
  },
  {
   "cell_type": "code",
   "execution_count": 456,
   "metadata": {},
   "outputs": [
    {
     "data": {
      "text/plain": [
       "<matplotlib.axes._subplots.AxesSubplot at 0x1c3df83210>"
      ]
     },
     "execution_count": 456,
     "metadata": {},
     "output_type": "execute_result"
    },
    {
     "data": {
      "image/png": "[encoded data removed]",
      "text/plain": [
       "<Figure size 432x288 with 1 Axes>"
      ]
     },
     "metadata": {
      "needs_background": "light"
     },
     "output_type": "display_data"
    }
   ],
   "source": [
    "sns.distplot(resid)"
   ]
  },
  {
   "cell_type": "code",
   "execution_count": 457,
   "metadata": {},
   "outputs": [
    {
     "name": "stdout",
     "output_type": "stream",
     "text": [
      "[150014.22726127008, 34133.18923780369, 37762.20818583439, 33649.25805886217, 17407.244264920784, 35704.00284800307, 1.1115311173039122, 36019.10693218485, 21388.50527713846, 17607.80375824056, 5808.491025621403, 15504.20494637111, 1.0821279527917647, 33955.598383973105, 27839.87768893006, 8556.47436211329, 17064.19557080223, 1.0968007240379383, 22097.462200108464, 3107.6085384219687, 36002.128822653096, 1.7291483923228057, 1684.378164649897, 30929.413788062055, 1.1541582257421719, 51661.63182886777, 1.0251301959592511, 1.9523315055003636, 2367.824861868853, 2025.6632001417458, 3410.4271225588827, 210.51507491914802, 3986.1437876658138, 1.051347309157056, 2898.683158679833, 2382.4393753854797, 674.6063707678355, 1583.6002914477292, 1.0761196235105228, 2119.8430288173586, 881.9222395661235, 2436.3574077688277, 1.582459464984765, 109.39018078385521, 1948.5616829871635, 1.1130567963811622, 4742.398967930222, 1.029681911391609, 1.8602992110100531, 2637.5800601388755, 3421.7031928097094, 244.9281709656229, 2079.0033905491578, 1.068284896173994, 3770.6025795702353, 395.6785988732266, 4735.5656691626955, 1.7381393051286531, 56.21807015784943, 2550.94367959169, 1.1423081112011069, 5024.91918253184, 1.0207724097726778, 2.0921097086680827, 1464.155517632961, 136.54249774370194, 824.9761939572033, 2.137773899737834, 27.669039567257027, 745.4211892747006, 1.355619739932539, 14506.649013025659, 1.0663412354588544, 3.065770683394942, 2.2812455030225824, 1646.286042203827, 1.4734375334601133, 9621.83130708112, 1.1252614913550893, 1.763410477784494, 6510.484658448907, 1.0208757443960852, 1.2214143926557508, 2.142776760631301]\n"
     ]
    }
   ],
   "source": [
    "from statsmodels.stats.outliers_influence import variance_inflation_factor\n",
    "\n",
    "vif = [variance_inflation_factor(X_poly, i) for i in range(X_poly.shape[1])]\n",
    "print(vif)"
   ]
  },
  {
   "cell_type": "code",
   "execution_count": 458,
   "metadata": {},
   "outputs": [
    {
     "data": {
      "text/plain": [
       "[('F statistic', 0.9025184388068619), ('p-value', 0.880174003963622)]"
      ]
     },
     "execution_count": 458,
     "metadata": {},
     "output_type": "execute_result"
    }
   ],
   "source": [
    "from statsmodels.compat import lzip\n",
    "name = ['F statistic', 'p-value']\n",
    "test = sms.het_goldfeldquandt(resid, bmz.model.exog)\n",
    "lzip(name, test)"
   ]
  },
  {
   "cell_type": "markdown",
   "metadata": {},
   "source": [
    "### Ridge regression "
   ]
  },
  {
   "cell_type": "code",
   "execution_count": 459,
   "metadata": {},
   "outputs": [
    {
     "data": {
      "text/plain": [
       "Ridge(alpha=0.01, copy_X=True, fit_intercept=True, max_iter=None,\n",
       "      normalize=False, random_state=None, solver='auto', tol=0.001)"
      ]
     },
     "execution_count": 459,
     "metadata": {},
     "output_type": "execute_result"
    }
   ],
   "source": [
    "x_train, x_test, y_train, y_test = train_test_split(x,y, test_size = 0.3, random_state = 2)\n",
    "lr = LinearRegression()\n",
    "lr.fit(x_train, y_train)\n",
    "rr = Ridge(alpha=0.01) \n",
    "rr.fit(x_train, y_train)"
   ]
  },
  {
   "cell_type": "code",
   "execution_count": 460,
   "metadata": {},
   "outputs": [
    {
     "name": "stdout",
     "output_type": "stream",
     "text": [
      "R^2 score for train: 0.9086179600205009\n",
      "R^2 score for test: 0.9030947072459644\n"
     ]
    },
    {
     "data": {
      "text/html": [
       "<div>\n",
       "<style scoped>\n",
       "    .dataframe tbody tr th:only-of-type {\n",
       "        vertical-align: middle;\n",
       "    }\n",
       "\n",
       "    .dataframe tbody tr th {\n",
       "        vertical-align: top;\n",
       "    }\n",
       "\n",
       "    .dataframe thead th {\n",
       "        text-align: right;\n",
       "    }\n",
       "</style>\n",
       "<table border=\"1\" class=\"dataframe\">\n",
       "  <thead>\n",
       "    <tr style=\"text-align: right;\">\n",
       "      <th></th>\n",
       "      <th>Model</th>\n",
       "      <th>R-Squared</th>\n",
       "      <th>MSE</th>\n",
       "      <th>RMSE</th>\n",
       "    </tr>\n",
       "  </thead>\n",
       "  <tbody>\n",
       "    <tr>\n",
       "      <td>0</td>\n",
       "      <td>Linear regression model with polynomial features</td>\n",
       "      <td>0.998565</td>\n",
       "      <td>527.241259</td>\n",
       "      <td>22.961735</td>\n",
       "    </tr>\n",
       "    <tr>\n",
       "      <td>1</td>\n",
       "      <td>ridge regression</td>\n",
       "      <td>0.903095</td>\n",
       "      <td>35596.724132</td>\n",
       "      <td>188.670941</td>\n",
       "    </tr>\n",
       "  </tbody>\n",
       "</table>\n",
       "</div>"
      ],
      "text/plain": [
       "                                              Model  R-Squared           MSE  \\\n",
       "0  Linear regression model with polynomial features   0.998565    527.241259   \n",
       "1                                  ridge regression   0.903095  35596.724132   \n",
       "\n",
       "         RMSE  \n",
       "0   22.961735  \n",
       "1  188.670941  "
      ]
     },
     "execution_count": 460,
     "metadata": {},
     "output_type": "execute_result"
    }
   ],
   "source": [
    "print(f'R^2 score for train: {rr.score(x_train, y_train)}')\n",
    "print(f'R^2 score for test: {rr.score(x_test, y_test)}')\n",
    "\n",
    "y_pred = rr.predict(x_test)\n",
    "mse = mean_squared_error(y_test,y_pred)\n",
    "\n",
    "rmse = np.sqrt(mse)\n",
    "\n",
    "rsquared = r2_score(y_test,y_pred)\n",
    "\n",
    "metrics = pd.Series({'Model': \"ridge regression\",'R-Squared': rsquared,'MSE':mse,'RMSE':rmse,})\n",
    "\n",
    "\n",
    "result_tabulation = result_tabulation.append(metrics, ignore_index = True)\n",
    "\n",
    "result_tabulation"
   ]
  },
  {
   "cell_type": "markdown",
   "metadata": {},
   "source": [
    "### Ridge with Grid search "
   ]
  },
  {
   "cell_type": "code",
   "execution_count": 461,
   "metadata": {},
   "outputs": [
    {
     "data": {
      "text/plain": [
       "GridSearchCV(cv=10, error_score=nan,\n",
       "             estimator=Ridge(alpha=1.0, copy_X=True, fit_intercept=True,\n",
       "                             max_iter=None, normalize=False, random_state=None,\n",
       "                             solver='auto', tol=0.001),\n",
       "             iid='deprecated', n_jobs=None,\n",
       "             param_grid={'alpha': array([  1.,   2.,   3.,   4.,   5.,   6.,   7.,   8.,   9.,  10.,  11.,\n",
       "        12.,  13.,  14.,  15.,  16.,  17.,  18.,  19.,  20.,  21.,  22.,\n",
       "        23.,  24.,  25.,  26.,  27.,  28.,  29.,  30.,  31.,  32.,  33.,\n",
       "        34.,  35....,  41.,  42.,  43.,  44.,\n",
       "        45.,  46.,  47.,  48.,  49.,  50.,  51.,  52.,  53.,  54.,  55.,\n",
       "        56.,  57.,  58.,  59.,  60.,  61.,  62.,  63.,  64.,  65.,  66.,\n",
       "        67.,  68.,  69.,  70.,  71.,  72.,  73.,  74.,  75.,  76.,  77.,\n",
       "        78.,  79.,  80.,  81.,  82.,  83.,  84.,  85.,  86.,  87.,  88.,\n",
       "        89.,  90.,  91.,  92.,  93.,  94.,  95.,  96.,  97.,  98.,  99.,\n",
       "       100.])},\n",
       "             pre_dispatch='2*n_jobs', refit=True, return_train_score=False,\n",
       "             scoring='neg_mean_absolute_error', verbose=0)"
      ]
     },
     "execution_count": 461,
     "metadata": {},
     "output_type": "execute_result"
    }
   ],
   "source": [
    "from sklearn.model_selection import GridSearchCV\n",
    "\n",
    "lambdas=np.linspace(1,100,100)\n",
    "params={'alpha':lambdas}\n",
    "rr_grid =Ridge(fit_intercept=True)\n",
    "grid_search=GridSearchCV(rr_grid,param_grid=params,cv=10,scoring='neg_mean_absolute_error')\n",
    "grid_search.fit(x_train,y_train)"
   ]
  },
  {
   "cell_type": "code",
   "execution_count": 462,
   "metadata": {},
   "outputs": [
    {
     "data": {
      "text/plain": [
       "Ridge(alpha=100.0, copy_X=True, fit_intercept=True, max_iter=None,\n",
       "      normalize=False, random_state=None, solver='auto', tol=0.001)"
      ]
     },
     "execution_count": 462,
     "metadata": {},
     "output_type": "execute_result"
    }
   ],
   "source": [
    "grid_search.best_estimator_"
   ]
  },
  {
   "cell_type": "code",
   "execution_count": 463,
   "metadata": {},
   "outputs": [
    {
     "name": "stdout",
     "output_type": "stream",
     "text": [
      "R^2 score for train: 0.9086179600205009\n",
      "R^2 score for test: 0.9030947072459644\n"
     ]
    },
    {
     "data": {
      "text/html": [
       "<div>\n",
       "<style scoped>\n",
       "    .dataframe tbody tr th:only-of-type {\n",
       "        vertical-align: middle;\n",
       "    }\n",
       "\n",
       "    .dataframe tbody tr th {\n",
       "        vertical-align: top;\n",
       "    }\n",
       "\n",
       "    .dataframe thead th {\n",
       "        text-align: right;\n",
       "    }\n",
       "</style>\n",
       "<table border=\"1\" class=\"dataframe\">\n",
       "  <thead>\n",
       "    <tr style=\"text-align: right;\">\n",
       "      <th></th>\n",
       "      <th>Model</th>\n",
       "      <th>R-Squared</th>\n",
       "      <th>MSE</th>\n",
       "      <th>RMSE</th>\n",
       "    </tr>\n",
       "  </thead>\n",
       "  <tbody>\n",
       "    <tr>\n",
       "      <td>0</td>\n",
       "      <td>Linear regression model with polynomial features</td>\n",
       "      <td>0.998565</td>\n",
       "      <td>527.241259</td>\n",
       "      <td>22.961735</td>\n",
       "    </tr>\n",
       "    <tr>\n",
       "      <td>1</td>\n",
       "      <td>ridge regression</td>\n",
       "      <td>0.903095</td>\n",
       "      <td>35596.724132</td>\n",
       "      <td>188.670941</td>\n",
       "    </tr>\n",
       "    <tr>\n",
       "      <td>2</td>\n",
       "      <td>ridge regression with gridsearch</td>\n",
       "      <td>0.901142</td>\n",
       "      <td>36314.120389</td>\n",
       "      <td>190.562642</td>\n",
       "    </tr>\n",
       "  </tbody>\n",
       "</table>\n",
       "</div>"
      ],
      "text/plain": [
       "                                              Model  R-Squared           MSE  \\\n",
       "0  Linear regression model with polynomial features   0.998565    527.241259   \n",
       "1                                  ridge regression   0.903095  35596.724132   \n",
       "2                 ridge regression with gridsearch    0.901142  36314.120389   \n",
       "\n",
       "         RMSE  \n",
       "0   22.961735  \n",
       "1  188.670941  \n",
       "2  190.562642  "
      ]
     },
     "execution_count": 463,
     "metadata": {},
     "output_type": "execute_result"
    }
   ],
   "source": [
    "y_pred=grid_search.predict(x_test)\n",
    "\n",
    "print(f'R^2 score for train: {rr.score(x_train, y_train)}')\n",
    "print(f'R^2 score for test: {rr.score(x_test, y_test)}')\n",
    "\n",
    "mse = mean_squared_error(y_test,y_pred)\n",
    "\n",
    "rmse = np.sqrt(mse)\n",
    "\n",
    "rsquared = r2_score(y_test,y_pred)\n",
    "\n",
    "metrics = pd.Series({'Model': \"ridge regression with gridsearch \",'R-Squared': rsquared,'MSE':mse,'RMSE':rmse,})\n",
    "\n",
    "result_tabulation = result_tabulation.append(metrics, ignore_index = True)\n",
    "\n",
    "result_tabulation"
   ]
  },
  {
   "cell_type": "markdown",
   "metadata": {},
   "source": [
    "### Lasso regression with grid search "
   ]
  },
  {
   "cell_type": "code",
   "execution_count": 464,
   "metadata": {},
   "outputs": [
    {
     "data": {
      "text/plain": [
       "GridSearchCV(cv=10, error_score=nan,\n",
       "             estimator=Lasso(alpha=1.0, copy_X=True, fit_intercept=True,\n",
       "                             max_iter=1000, normalize=False, positive=False,\n",
       "                             precompute=False, random_state=None,\n",
       "                             selection='cyclic', tol=0.0001, warm_start=False),\n",
       "             iid='deprecated', n_jobs=None,\n",
       "             param_grid={'alpha': array([  1.,   2.,   3.,   4.,   5.,   6.,   7.,   8.,   9.,  10.,  11.,\n",
       "        12.,  13.,  14.,  15.,  16.,  17.,  18.,  19.,  20.,  21....\n",
       "        34.,  35.,  36.,  37.,  38.,  39.,  40.,  41.,  42.,  43.,  44.,\n",
       "        45.,  46.,  47.,  48.,  49.,  50.,  51.,  52.,  53.,  54.,  55.,\n",
       "        56.,  57.,  58.,  59.,  60.,  61.,  62.,  63.,  64.,  65.,  66.,\n",
       "        67.,  68.,  69.,  70.,  71.,  72.,  73.,  74.,  75.,  76.,  77.,\n",
       "        78.,  79.,  80.,  81.,  82.,  83.,  84.,  85.,  86.,  87.,  88.,\n",
       "        89.,  90.,  91.,  92.,  93.,  94.,  95.,  96.,  97.,  98.,  99.,\n",
       "       100.])},\n",
       "             pre_dispatch='2*n_jobs', refit=True, return_train_score=False,\n",
       "             scoring='neg_mean_absolute_error', verbose=0)"
      ]
     },
     "execution_count": 464,
     "metadata": {},
     "output_type": "execute_result"
    }
   ],
   "source": [
    "lasso_grid =Lasso(fit_intercept=True)\n",
    "grid_search=GridSearchCV(lasso_grid,param_grid=params,cv=10,scoring='neg_mean_absolute_error')\n",
    "grid_search.fit(x_train,y_train)"
   ]
  },
  {
   "cell_type": "code",
   "execution_count": 465,
   "metadata": {},
   "outputs": [
    {
     "data": {
      "text/plain": [
       "Lasso(alpha=91.0, copy_X=True, fit_intercept=True, max_iter=1000,\n",
       "      normalize=False, positive=False, precompute=False, random_state=None,\n",
       "      selection='cyclic', tol=0.0001, warm_start=False)"
      ]
     },
     "execution_count": 465,
     "metadata": {},
     "output_type": "execute_result"
    }
   ],
   "source": [
    "grid_search.best_estimator_"
   ]
  },
  {
   "cell_type": "code",
   "execution_count": 466,
   "metadata": {},
   "outputs": [
    {
     "name": "stdout",
     "output_type": "stream",
     "text": [
      "R^2 score for train: 0.9086179600205009\n",
      "R^2 score for test: 0.9030947072459644\n"
     ]
    },
    {
     "data": {
      "text/html": [
       "<div>\n",
       "<style scoped>\n",
       "    .dataframe tbody tr th:only-of-type {\n",
       "        vertical-align: middle;\n",
       "    }\n",
       "\n",
       "    .dataframe tbody tr th {\n",
       "        vertical-align: top;\n",
       "    }\n",
       "\n",
       "    .dataframe thead th {\n",
       "        text-align: right;\n",
       "    }\n",
       "</style>\n",
       "<table border=\"1\" class=\"dataframe\">\n",
       "  <thead>\n",
       "    <tr style=\"text-align: right;\">\n",
       "      <th></th>\n",
       "      <th>Model</th>\n",
       "      <th>R-Squared</th>\n",
       "      <th>MSE</th>\n",
       "      <th>RMSE</th>\n",
       "    </tr>\n",
       "  </thead>\n",
       "  <tbody>\n",
       "    <tr>\n",
       "      <td>0</td>\n",
       "      <td>Linear regression model with polynomial features</td>\n",
       "      <td>0.998565</td>\n",
       "      <td>527.241259</td>\n",
       "      <td>22.961735</td>\n",
       "    </tr>\n",
       "    <tr>\n",
       "      <td>1</td>\n",
       "      <td>ridge regression</td>\n",
       "      <td>0.903095</td>\n",
       "      <td>35596.724132</td>\n",
       "      <td>188.670941</td>\n",
       "    </tr>\n",
       "    <tr>\n",
       "      <td>2</td>\n",
       "      <td>ridge regression with gridsearch</td>\n",
       "      <td>0.901142</td>\n",
       "      <td>36314.120389</td>\n",
       "      <td>190.562642</td>\n",
       "    </tr>\n",
       "    <tr>\n",
       "      <td>3</td>\n",
       "      <td>Lasso regression with gridsearch</td>\n",
       "      <td>0.892667</td>\n",
       "      <td>39427.027571</td>\n",
       "      <td>198.562402</td>\n",
       "    </tr>\n",
       "  </tbody>\n",
       "</table>\n",
       "</div>"
      ],
      "text/plain": [
       "                                              Model  R-Squared           MSE  \\\n",
       "0  Linear regression model with polynomial features   0.998565    527.241259   \n",
       "1                                  ridge regression   0.903095  35596.724132   \n",
       "2                 ridge regression with gridsearch    0.901142  36314.120389   \n",
       "3                 Lasso regression with gridsearch    0.892667  39427.027571   \n",
       "\n",
       "         RMSE  \n",
       "0   22.961735  \n",
       "1  188.670941  \n",
       "2  190.562642  \n",
       "3  198.562402  "
      ]
     },
     "execution_count": 466,
     "metadata": {},
     "output_type": "execute_result"
    }
   ],
   "source": [
    "y_pred=grid_search.predict(x_test)\n",
    "\n",
    "print(f'R^2 score for train: {rr.score(x_train, y_train)}')\n",
    "print(f'R^2 score for test: {rr.score(x_test, y_test)}')\n",
    "\n",
    "mse = mean_squared_error(y_test,y_pred)\n",
    "\n",
    "rmse = np.sqrt(mse)\n",
    "\n",
    "rsquared = r2_score(y_test,y_pred)\n",
    "\n",
    "metrics = pd.Series({'Model': \"Lasso regression with gridsearch \",'R-Squared': rsquared,'MSE':mse,'RMSE':rmse,})\n",
    "\n",
    "result_tabulation = result_tabulation.append(metrics, ignore_index = True)\n",
    "\n",
    "result_tabulation"
   ]
  }
 ],
 "metadata": {
  "kernelspec": {
   "display_name": "Python 3",
   "language": "python",
   "name": "python3"
  },
  "language_info": {
   "codemirror_mode": {
    "name": "ipython",
    "version": 3
   },
   "file_extension": ".py",
   "mimetype": "text/x-python",
   "name": "python",
   "nbconvert_exporter": "python",
   "pygments_lexer": "ipython3",
   "version": "3.7.4"
  }
 },
 "nbformat": 4,
 "nbformat_minor": 2
}
